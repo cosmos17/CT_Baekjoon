{
 "cells": [
  {
   "cell_type": "markdown",
   "id": "8e43ece0",
   "metadata": {},
   "source": [
    "## ATM\n",
    "* https://www.acmicpc.net/problem/11399"
   ]
  },
  {
   "cell_type": "code",
   "execution_count": 10,
   "id": "2f534236",
   "metadata": {},
   "outputs": [],
   "source": [
    "# 1 (성공)\n",
    "def f11399(N, P):\n",
    "    P.sort(reverse=True)\n",
    "    sP = [0] * N\n",
    "    \n",
    "    for i in range(N):\n",
    "        sP[i] = sum(P[i:])\n",
    "    \n",
    "    return sum(sP)"
   ]
  },
  {
   "cell_type": "code",
   "execution_count": 11,
   "id": "b26db14a",
   "metadata": {},
   "outputs": [
    {
     "name": "stdout",
     "output_type": "stream",
     "text": [
      "5\n",
      "3 1 4 3 2\n",
      "32\n"
     ]
    }
   ],
   "source": [
    "N = int(input())\n",
    "P = [int(x) for x in input().split()]\n",
    "print(f11399(N, P))"
   ]
  },
  {
   "cell_type": "markdown",
   "id": "7a27fe94",
   "metadata": {},
   "source": [
    "## 설탕 배달\n",
    "* https://www.acmicpc.net/problem/2839"
   ]
  },
  {
   "cell_type": "code",
   "execution_count": 2,
   "id": "44e76964",
   "metadata": {},
   "outputs": [],
   "source": [
    "# 1 직접 식을 구하기 (성공)\n",
    "def f2839_1(N):\n",
    "    if N == 4 or N == 7:\n",
    "        return -1\n",
    "    \n",
    "    n = N % 5\n",
    "    if n == 0:\n",
    "        return N // 5\n",
    "    elif n == 1:\n",
    "        result = (N//5 - 1) + (N - (5*(N//5 - 1)))//3\n",
    "        return result\n",
    "    elif n == 2:\n",
    "        result = (N//5 - 2) + (N - (5*(N//5 - 2)))//3\n",
    "        return result\n",
    "    elif n == 3:\n",
    "        result = (N//5 - 1) + (N - (5*(N//5 - 1)))//3\n",
    "        return result\n",
    "    elif n == 4:\n",
    "        result = (N//5 - 2) + (N - (5*(N//5 - 2)))//3\n",
    "        return result\n",
    "    else:\n",
    "        return -1"
   ]
  },
  {
   "cell_type": "code",
   "execution_count": 3,
   "id": "d03d0bc7",
   "metadata": {},
   "outputs": [],
   "source": [
    "# 2 경우의 수를 나눠 계산 (실패)\n",
    "def f2839_x1(n, count=0):\n",
    "    if (n-5) % 3 == 0:\n",
    "        return f(n-5, count+1)\n",
    "    elif (n-3) % 5 == 0:\n",
    "        return f(n-3, count+1)\n",
    "    elif n % 5 == 0:\n",
    "        return n // 5 + count\n",
    "    elif n % 3 == 0:\n",
    "        return n // 3 + count\n",
    "    else:\n",
    "        return -1"
   ]
  },
  {
   "cell_type": "code",
   "execution_count": 4,
   "id": "3c31feee",
   "metadata": {},
   "outputs": [],
   "source": [
    "# 3 Greedy 에 가장 적합하다고 생각되는 풀이, 큰 수로 나누는 횟수가 가장 많아야 됨 (성공)\n",
    "def f2839_2(N):\n",
    "    count = 0\n",
    "    while N % 5 != 0:\n",
    "        if N < 3:\n",
    "            return -1\n",
    "        N -= 3\n",
    "        count += 1\n",
    "        \n",
    "    count += N // 5\n",
    "    return count"
   ]
  },
  {
   "cell_type": "code",
   "execution_count": 8,
   "id": "d4b82a3d",
   "metadata": {},
   "outputs": [
    {
     "name": "stdout",
     "output_type": "stream",
     "text": [
      "11\n",
      "3\n"
     ]
    }
   ],
   "source": [
    "N = int(input())\n",
    "print(f2839_2(N))"
   ]
  },
  {
   "cell_type": "markdown",
   "id": "c22eed90",
   "metadata": {},
   "source": [
    "## 신입 사원\n",
    "* https://www.acmicpc.net/problem/1946"
   ]
  },
  {
   "cell_type": "code",
   "execution_count": 8,
   "id": "0a49d35a",
   "metadata": {},
   "outputs": [
    {
     "name": "stdout",
     "output_type": "stream",
     "text": [
      "1\n",
      "1\n",
      "1 1\n",
      "A2 [[1, 1]]\n",
      "0\n"
     ]
    }
   ],
   "source": [
    "# 1 시간초과 (실패)\n",
    "def f1946_1(A):\n",
    "    count = 0\n",
    "    A2 = sorted(A, key=lambda A: A[0]) # 리스트의 앞쪽 값 기준 오름차순 정렬\n",
    "    print(\"A2\", A2)\n",
    "    for i in range(len(A2)):\n",
    "        for j in range(len(A2)):\n",
    "            if A2[i][1] > A2[j][1] and i < j:\n",
    "                count += 1\n",
    "                break\n",
    "    \n",
    "    return count\n",
    "\n",
    "T = int(input())\n",
    "for _ in range(T):\n",
    "    N = int(input())\n",
    "    A = []\n",
    "    for _ in range(N):\n",
    "        A.append([int(x) for x in input().split()])\n",
    "    print(f1946_1(A))"
   ]
  },
  {
   "cell_type": "code",
   "execution_count": 9,
   "id": "22b418bd",
   "metadata": {},
   "outputs": [
    {
     "ename": "ValueError",
     "evalue": "invalid literal for int() with base 10: ''",
     "output_type": "error",
     "traceback": [
      "\u001b[1;31m---------------------------------------------------------------------------\u001b[0m",
      "\u001b[1;31mValueError\u001b[0m                                Traceback (most recent call last)",
      "Cell \u001b[1;32mIn[9], line 17\u001b[0m\n\u001b[0;32m     13\u001b[0m                 \u001b[38;5;28;01mbreak\u001b[39;00m\n\u001b[0;32m     15\u001b[0m     \u001b[38;5;28;01mreturn\u001b[39;00m count\n\u001b[1;32m---> 17\u001b[0m T \u001b[38;5;241m=\u001b[39m \u001b[38;5;28;43mint\u001b[39;49m\u001b[43m(\u001b[49m\u001b[38;5;28;43minput\u001b[39;49m\u001b[43m(\u001b[49m\u001b[43m)\u001b[49m\u001b[43m)\u001b[49m\n\u001b[0;32m     18\u001b[0m \u001b[38;5;28;01mfor\u001b[39;00m _ \u001b[38;5;129;01min\u001b[39;00m \u001b[38;5;28mrange\u001b[39m(T):\n\u001b[0;32m     19\u001b[0m     N \u001b[38;5;241m=\u001b[39m \u001b[38;5;28mint\u001b[39m(\u001b[38;5;28minput\u001b[39m())\n",
      "\u001b[1;31mValueError\u001b[0m: invalid literal for int() with base 10: ''"
     ]
    }
   ],
   "source": [
    "# 2\n",
    "import sys\n",
    "inp = sys.stdin.readline\n",
    "\n",
    "def f1946_2(A):\n",
    "    count = 0\n",
    "    A.sort()\n",
    "\n",
    "    for i in range(len(A2)):\n",
    "        for j in range(len(A2)):\n",
    "            if A2[i][1] > A2[j][1] and i < j:\n",
    "                count += 1\n",
    "                break\n",
    "    \n",
    "    return count\n",
    "\n",
    "T = int(inp())\n",
    "for _ in range(T):\n",
    "    N = int(input())\n",
    "    A = []\n",
    "    for _ in range(N):\n",
    "        A.append([int(x) for x in input().split()])\n",
    "    print(f1946_2(A))"
   ]
  },
  {
   "cell_type": "code",
   "execution_count": null,
   "id": "cba4b81f",
   "metadata": {},
   "outputs": [],
   "source": []
  },
  {
   "cell_type": "code",
   "execution_count": 46,
   "id": "e2e9e1dd",
   "metadata": {},
   "outputs": [
    {
     "name": "stdout",
     "output_type": "stream",
     "text": [
      "[[1, 4], [2, 3], [3, 2], [4, 1], [5, 5]]\n"
     ]
    }
   ],
   "source": [
    "A = [[3,2], [1,4], [4,1], [2,3], [5,5]]\n",
    "A2 = sorted(A, key=lambda A: A[0])\n",
    "print(A2)"
   ]
  },
  {
   "cell_type": "markdown",
   "id": "e4cdd329",
   "metadata": {},
   "source": [
    "## 동전 0\n",
    "* https://www.acmicpc.net/problem/11047"
   ]
  },
  {
   "cell_type": "code",
   "execution_count": 28,
   "id": "714b5374",
   "metadata": {},
   "outputs": [],
   "source": [
    "# 1 (성공)\n",
    "def f11047(N, K, A):\n",
    "    A.sort(reverse=True)\n",
    "    count = 0\n",
    "    for coin in A:\n",
    "        count += K // coin\n",
    "        K %= coin\n",
    "        \n",
    "    print(count)"
   ]
  },
  {
   "cell_type": "code",
   "execution_count": 27,
   "id": "4727a7cb",
   "metadata": {},
   "outputs": [
    {
     "name": "stdout",
     "output_type": "stream",
     "text": [
      "1 10\n",
      "1\n"
     ]
    }
   ],
   "source": [
    "N, K = [int(x) for x in input().split()]\n",
    "A = []\n",
    "for _ in range(N):\n",
    "    A.append(int(input()))\n",
    "\n",
    "f11047(N, K, A)"
   ]
  },
  {
   "cell_type": "markdown",
   "id": "0d861452",
   "metadata": {},
   "source": [
    "* K의 크기를 조금이라도 줄이자 -> 금액보다 큰 동전은 리스트에 추가하지 않음."
   ]
  },
  {
   "cell_type": "markdown",
   "id": "a6cf1c36",
   "metadata": {},
   "source": [
    "## 수 묶기\n",
    "* https://www.acmicpc.net/problem/1744"
   ]
  },
  {
   "cell_type": "code",
   "execution_count": 50,
   "id": "869868f3",
   "metadata": {},
   "outputs": [
    {
     "name": "stdout",
     "output_type": "stream",
     "text": [
      "3\n",
      "-1\n",
      "0\n",
      "1\n",
      "1\n"
     ]
    }
   ],
   "source": [
    "# 1 (성공)\n",
    "\n",
    "def minus_count(A):\n",
    "    count = 0\n",
    "    for x in A:\n",
    "        if x < 0:\n",
    "            count += 1\n",
    "    return count\n",
    "\n",
    "def f1744(N, A):\n",
    "    if N == 1:\n",
    "        return A[0]\n",
    "    \n",
    "    result = 0\n",
    "    \n",
    "    for i in range(0, N, 2):\n",
    "        if i < N - 1: # 수열 길이 짝수\n",
    "            mul = A[i] * A[i+1]\n",
    "            plus = A[i] + A[i+1]\n",
    "            if mul > plus:\n",
    "                result += mul\n",
    "            else:\n",
    "                result += plus\n",
    "        else: # 수열 길이 홀수\n",
    "            result += A[i]\n",
    "    \n",
    "    return result\n",
    "\n",
    "N = int(input())\n",
    "A = []\n",
    "for _ in range(N):\n",
    "    A.append(int(input()))\n",
    "\n",
    "if minus_count(A) >= 1: # 음수가 한 개 이상인 경우 수열을 둘로 나눠서 계산\n",
    "    Aup = [x for x in A if x > 0]\n",
    "    Aup.sort(reverse=True)\n",
    "    Nup = len(Aup)\n",
    "    \n",
    "    Adown = [x for x in A if x <= 0]\n",
    "    Adown.sort()\n",
    "    Ndown = len(Adown)\n",
    "    \n",
    "    print(f1744(Nup, Aup) + f1744(Ndown, Adown))\n",
    "    \n",
    "else:\n",
    "    A.sort(reverse=True)\n",
    "    print(f1744(N, A))"
   ]
  },
  {
   "cell_type": "markdown",
   "id": "7600dfd1",
   "metadata": {},
   "source": [
    "# 전자레인지\n",
    "* https://www.acmicpc.net/problem/10162"
   ]
  },
  {
   "cell_type": "code",
   "execution_count": 14,
   "id": "b75425dc",
   "metadata": {},
   "outputs": [
    {
     "name": "stdout",
     "output_type": "stream",
     "text": [
      "100\n",
      "0 1 4\n"
     ]
    }
   ],
   "source": [
    "# 1 100점 (성공)\n",
    "import sys\n",
    "\n",
    "def f10162(T):\n",
    "    count = 0\n",
    "    button = [300, 60, 10]\n",
    "    count = []\n",
    "    for b in button:\n",
    "        if T != T % b:\n",
    "            count.append(T // b)\n",
    "            T = T % b\n",
    "        else:\n",
    "            count.append(0)\n",
    "            T = T % b\n",
    "    \n",
    "    if T > 0:\n",
    "        print(-1)\n",
    "    else:\n",
    "        s = str(count[0]) + \" \" + str(count[1]) + \" \" + str(count[2])\n",
    "        print(s)\n",
    "\n",
    "#T = int(sys.stdin.readline())\n",
    "T = int(input())\n",
    "f10162(T)"
   ]
  },
  {
   "cell_type": "code",
   "execution_count": null,
   "id": "9726af13",
   "metadata": {},
   "outputs": [],
   "source": []
  }
 ],
 "metadata": {
  "kernelspec": {
   "display_name": "Python 3 (ipykernel)",
   "language": "python",
   "name": "python3"
  },
  "language_info": {
   "codemirror_mode": {
    "name": "ipython",
    "version": 3
   },
   "file_extension": ".py",
   "mimetype": "text/x-python",
   "name": "python",
   "nbconvert_exporter": "python",
   "pygments_lexer": "ipython3",
   "version": "3.8.8"
  },
  "vscode": {
   "interpreter": {
    "hash": "79093400ce393873cd550a6f047c254539c6ed591d10c2c40341fb5e73b6495c"
   }
  }
 },
 "nbformat": 4,
 "nbformat_minor": 5
}
