{
 "cells": [
  {
   "cell_type": "markdown",
   "id": "5118c7d6",
   "metadata": {},
   "source": [
    "## 17608. 막대기\n",
    "* https://www.acmicpc.net/problem/17608"
   ]
  },
  {
   "cell_type": "code",
   "execution_count": 13,
   "id": "4d9e137e",
   "metadata": {},
   "outputs": [
    {
     "name": "stdout",
     "output_type": "stream",
     "text": [
      "1\n",
      "1\n",
      "1\n"
     ]
    }
   ],
   "source": [
    "# 1 (성공)\n",
    "\n",
    "import sys\n",
    "\n",
    "N = int(input())\n",
    "#N =  int(sys.stdin.readline())\n",
    "A = []\n",
    "for _ in range(N):\n",
    "    A.append(int(input()))\n",
    "    #A.append(int(sys.stdin.readline()))\n",
    "    \n",
    "S = [A.pop()]\n",
    "last = 0\n",
    "for x in A[::-1]:\n",
    "    if x > S[last]:\n",
    "        S.append(x)\n",
    "        last += 1\n",
    "        \n",
    "print(len(S))"
   ]
  },
  {
   "cell_type": "markdown",
   "id": "fbede241",
   "metadata": {},
   "source": [
    "## 2164. 카드2\n",
    "* https://www.acmicpc.net/problem/2164"
   ]
  },
  {
   "cell_type": "code",
   "execution_count": 21,
   "id": "e03ef8a5",
   "metadata": {},
   "outputs": [
    {
     "name": "stdout",
     "output_type": "stream",
     "text": [
      "5\n",
      "2\n"
     ]
    }
   ],
   "source": [
    "# 1 (성공)\n",
    "from collections import deque\n",
    "\n",
    "N = int(input())\n",
    "Q = deque( list(range(1, N+1)) )\n",
    "\n",
    "while len(Q) > 1:\n",
    "    Q.popleft()\n",
    "    Q.append(Q.popleft())\n",
    "\n",
    "print(Q[0])"
   ]
  },
  {
   "cell_type": "markdown",
   "id": "a6c46f9a",
   "metadata": {},
   "source": [
    "## 10845. 큐\n",
    "* https://www.acmicpc.net/problem/10845"
   ]
  },
  {
   "cell_type": "code",
   "execution_count": null,
   "id": "59be742a",
   "metadata": {},
   "outputs": [],
   "source": [
    "# 1 (성공)\n",
    "from collections import deque\n",
    "import sys\n",
    "\n",
    "def cmd(Q, C):\n",
    "    if C[0] == 'push':\n",
    "        Q.append(C[1])\n",
    "    if C[0] == 'pop':\n",
    "        if len(Q):\n",
    "            print(Q.popleft())\n",
    "        else:\n",
    "            print(-1)\n",
    "    if C[0] == 'size':\n",
    "        print(len(Q))\n",
    "    if C[0] == 'empty':\n",
    "        if len(Q):\n",
    "            print(0)\n",
    "        else:\n",
    "            print(1)\n",
    "    if C[0] == 'front':\n",
    "        if len(Q):\n",
    "            print(Q[0])\n",
    "        else:\n",
    "            print(-1)\n",
    "    if C[0] == 'back':\n",
    "        if len(Q):\n",
    "            print(Q[len(Q)-1])\n",
    "        else:\n",
    "            print(-1)\n",
    "\n",
    "N = int(input())\n",
    "Q = deque()\n",
    "for _ in range(N):\n",
    "    C = [x for x in input().split()]\n",
    "    cmd(Q, C)"
   ]
  },
  {
   "cell_type": "markdown",
   "id": "bc3084cc",
   "metadata": {},
   "source": [
    "## 9012. 괄호\n",
    "* https://www.acmicpc.net/problem/9012"
   ]
  },
  {
   "cell_type": "code",
   "execution_count": 5,
   "id": "675130ad",
   "metadata": {},
   "outputs": [
    {
     "name": "stdout",
     "output_type": "stream",
     "text": [
      "3\n",
      "((\n",
      "NO\n",
      "))\n",
      "NO\n",
      "())(()\n",
      "NO\n"
     ]
    }
   ],
   "source": [
    "# 1 (성공)\n",
    "from collections import deque\n",
    "\n",
    "def VPS(X):\n",
    "    S = deque()\n",
    "    for x in X:\n",
    "        n = len(S)\n",
    "        if x == '(':\n",
    "            if n == 0:\n",
    "                S.append(x)\n",
    "            elif S[n-1] == '(':\n",
    "                S.append(x)\n",
    "\n",
    "        elif x == ')':\n",
    "            if n == 0:\n",
    "                return \"NO\"\n",
    "            elif S[n-1] == '(':\n",
    "                S.pop()\n",
    "            else:\n",
    "                S.append(x)\n",
    "            \n",
    "    if len(S) == 0:\n",
    "        return \"YES\"\n",
    "    else:\n",
    "        return \"NO\"\n",
    "\n",
    "T = int(input())\n",
    "for _ in range(T):\n",
    "    X = input()\n",
    "    print(VPS(X))"
   ]
  },
  {
   "cell_type": "markdown",
   "id": "0ead9008",
   "metadata": {},
   "source": [
    "## 1158. 요세푸스 문제\n",
    "* https://www.acmicpc.net/problem/1158"
   ]
  },
  {
   "cell_type": "code",
   "execution_count": 44,
   "id": "44832615",
   "metadata": {},
   "outputs": [
    {
     "name": "stdout",
     "output_type": "stream",
     "text": [
      "7 7\n",
      "Q: deque([1, 2, 3, 4, 5, 6, 7])\n",
      "<7, 1, 2, 3, 4, 5, 6>\n"
     ]
    }
   ],
   "source": [
    "# 1 (실패)\n",
    "from collections import deque\n",
    "\n",
    "def Josep(N, K):\n",
    "    Q = deque(list(range(1, N+1)))\n",
    "    res = []\n",
    "    while Q:\n",
    "        print(\"Q:\", Q)\n",
    "        if len(Q) == K:\n",
    "            res.append(Q.pop())\n",
    "            res += list(Q)\n",
    "            return res\n",
    "        \n",
    "        for _ in range(K-1):\n",
    "            Q.append(Q.popleft())\n",
    "        res.append(Q.popleft())\n",
    "\n",
    "N, K = [int(x) for x in input().split()]\n",
    "result = str(Josep(N, K))\n",
    "result = result.replace('[', '<')\n",
    "result = result.replace(']', '>')\n",
    "print(result)"
   ]
  },
  {
   "cell_type": "code",
   "execution_count": 46,
   "id": "06aee578",
   "metadata": {},
   "outputs": [
    {
     "name": "stdout",
     "output_type": "stream",
     "text": [
      "7 7\n",
      "Q: deque([1, 2, 3, 4, 5, 6, 7])\n",
      "Q: deque([1, 2, 3, 4, 5, 6])\n",
      "Q: deque([2, 3, 4, 5, 6])\n",
      "Q: deque([4, 5, 6, 2])\n",
      "Q: deque([2, 4, 5])\n",
      "Q: deque([4, 5])\n",
      "Q: deque([5])\n",
      "<7, 1, 3, 6, 2, 4, 5>\n"
     ]
    }
   ],
   "source": [
    "# 2 (성공)\n",
    "from collections import deque\n",
    "\n",
    "def Josep(N, K):\n",
    "    Q = deque(list(range(1, N+1)))\n",
    "    res = []\n",
    "    while Q:\n",
    "        #print(\"Q:\", Q)        \n",
    "        for _ in range(K-1):\n",
    "            Q.append(Q.popleft())\n",
    "        res.append(Q.popleft())\n",
    "    return res\n",
    "\n",
    "N, K = [int(x) for x in input().split()]\n",
    "result = str(Josep(N, K))\n",
    "result = result.replace('[', '<')\n",
    "result = result.replace(']', '>')\n",
    "print(result)"
   ]
  },
  {
   "cell_type": "markdown",
   "id": "cb28dee5",
   "metadata": {},
   "source": [
    "## 1874. 스택 수열\n",
    "* https://www.acmicpc.net/problem/1874"
   ]
  },
  {
   "cell_type": "code",
   "execution_count": 60,
   "id": "f3fb673c",
   "metadata": {},
   "outputs": [
    {
     "name": "stdout",
     "output_type": "stream",
     "text": [
      "5\n",
      "1\n",
      "2\n",
      "5\n",
      "3\n",
      "4\n",
      "NO\n"
     ]
    }
   ],
   "source": [
    "# 1 (실패)\n",
    "from collections import deque\n",
    "\n",
    "def SS(A, N):\n",
    "    res = []\n",
    "    i = 0\n",
    "    B = deque(list(range(1, N+1)))\n",
    "    Q = deque()\n",
    "    Q.append(B.popleft())\n",
    "    res.append(\"+\")\n",
    "    while i < N:\n",
    "        try:\n",
    "            n = len(Q)\n",
    "            while Q[n-1] != A[i]:\n",
    "                Q.append(B.popleft())\n",
    "                n = len(Q)\n",
    "                res.append(\"+\")\n",
    "            if Q[n-1] == A[i]:\n",
    "                Q.pop()\n",
    "                i += 1\n",
    "                res.append(\"-\")\n",
    "        except:\n",
    "            print(\"NO\")\n",
    "            return []\n",
    "            \n",
    "    return res\n",
    "\n",
    "N = int(input())\n",
    "A = []\n",
    "for _ in range(N):\n",
    "    A.append(int(input()))\n",
    "    \n",
    "result = SS(A, N)\n",
    "for x in result:\n",
    "    print(x)"
   ]
  },
  {
   "cell_type": "markdown",
   "id": "b69479da",
   "metadata": {},
   "source": [
    "## 1966. 프린터 큐\n",
    "* https://www.acmicpc.net/problem/1966"
   ]
  },
  {
   "cell_type": "code",
   "execution_count": 68,
   "id": "2614038e",
   "metadata": {},
   "outputs": [
    {
     "name": "stdout",
     "output_type": "stream",
     "text": [
      "1\n",
      "1 0\n",
      "5\n",
      "1\n"
     ]
    }
   ],
   "source": [
    "# 1 (성공)\n",
    "from collections import deque\n",
    "\n",
    "def PQ(N, M, A):\n",
    "    rank = sorted(A, reverse=True)\n",
    "    i = 0\n",
    "    A[M] += 10 # 확인하려는 문서에 표시\n",
    "    Q1 = deque()\n",
    "    Q2 = deque(A)\n",
    "    \n",
    "    while True:\n",
    "        n = len(Q1)\n",
    "        if n > 0 and Q1[n-1] > 10:\n",
    "            return n\n",
    "        \n",
    "        r = rank[i]\n",
    "        x = Q2.popleft()\n",
    "        xt = x % 10\n",
    "        if xt == r:\n",
    "            Q1.append(x)\n",
    "            i += 1\n",
    "        else:\n",
    "            Q2.append(x)\n",
    "    \n",
    "\n",
    "T = int(input())\n",
    "for _ in range(T):\n",
    "    N, M = [int(x) for x in input().split()]\n",
    "    A = [int(x) for x in input().split()]\n",
    "    print(PQ(N, M, A))"
   ]
  },
  {
   "cell_type": "markdown",
   "id": "d7e3bf57",
   "metadata": {},
   "source": [
    "## 23253. 자료구조는 정말 최고야\n",
    "* https://www.acmicpc.net/problem/23253"
   ]
  },
  {
   "cell_type": "code",
   "execution_count": 4,
   "id": "c7604ba9",
   "metadata": {},
   "outputs": [
    {
     "name": "stdout",
     "output_type": "stream",
     "text": [
      "5 2\n",
      "3\n",
      "3 5 1\n",
      "2\n",
      "4 2\n",
      "NO\n"
     ]
    }
   ],
   "source": [
    "# 1 (시간초과)\n",
    "#import sys\n",
    "from collections import deque\n",
    "\n",
    "def Sort(N, tower):\n",
    "    target = 1\n",
    "    while target < N+1:\n",
    "        cannot = False\n",
    "        for T in tower: # 모든 책 더미에 대해 확인\n",
    "            n = len(T)\n",
    "            if n == 0: # 빈 스택은 통과\n",
    "                continue\n",
    "            \n",
    "            if T[n-1] == target: # 맨 위 책과 찾는 책이 같을 때\n",
    "                T.pop()\n",
    "                target += 1\n",
    "                cannot = True\n",
    "        \n",
    "        if cannot == False: # 모든 책 더미 확인했는데 찾는 책이 없을 때\n",
    "            return \"NO\"\n",
    "        \n",
    "    return \"YES\"\n",
    "\n",
    "N, M = [int(x) for x in input().split()] # 전체 책 수, 책 더미 수\n",
    "tower = []\n",
    "for _ in range(M):\n",
    "    n = int(input())\n",
    "    books = [int(x) for x in input().split()]\n",
    "    tower.append(deque(books)) # stack\n",
    "    \n",
    "print(Sort(N, tower))"
   ]
  },
  {
   "cell_type": "code",
   "execution_count": 2,
   "id": "1b40a207",
   "metadata": {},
   "outputs": [
    {
     "name": "stdout",
     "output_type": "stream",
     "text": [
      "5 2\n",
      "3\n",
      "3 5 1\n",
      "2\n",
      "4 2\n",
      "NO\n"
     ]
    }
   ],
   "source": [
    "# 2\n",
    "def Sort(N, tower):\n",
    "    for T in tower:\n",
    "        if T != sorted(T, reverse=True):\n",
    "            return \"NO\"\n",
    "\n",
    "    return \"YES\"\n",
    "\n",
    "N, M = [int(x) for x in input().split()] # 전체 책 수, 책 더미 수\n",
    "tower = []\n",
    "for _ in range(M):\n",
    "    n = int(input())\n",
    "    books = [int(x) for x in input().split()]\n",
    "    tower.append(books)\n",
    "    \n",
    "print(Sort(N, tower))"
   ]
  },
  {
   "cell_type": "code",
   "execution_count": null,
   "id": "fc7a794a",
   "metadata": {},
   "outputs": [],
   "source": [
    "#코테_박진영\n",
    "import sys\n",
    "\n",
    "n, m = map(int, sys.stdin.readline().split())\n",
    "flag = True\n",
    "\n",
    "for _ in range(m):\n",
    "    sys.stdin.readline()\n",
    "    arr = list(map(int, sys.stdin.readline().split()))\n",
    "    \n",
    "    if arr != sorted(arr, reverse=True):  # 3 5 1 -> 5 3 1\n",
    "        flag = False\n",
    "        break\n",
    "\n",
    "if flag == True:\n",
    "    print('Yes')\n",
    "else:\n",
    "    print('No')"
   ]
  },
  {
   "cell_type": "markdown",
   "id": "26180dc1",
   "metadata": {},
   "source": [
    "# 3986. 좋은 단어\n",
    "* https://www.acmicpc.net/problem/3986"
   ]
  },
  {
   "cell_type": "code",
   "execution_count": 8,
   "id": "1b5fb3c5",
   "metadata": {},
   "outputs": [
    {
     "name": "stdout",
     "output_type": "stream",
     "text": [
      "1\n",
      "ABBABB\n",
      "1\n"
     ]
    }
   ],
   "source": [
    "# 1 (성공)\n",
    "from collections import deque\n",
    "\n",
    "def ABBA(X):\n",
    "    S = deque() # stack\n",
    "    for x in X:\n",
    "        n = len(S)\n",
    "        if n == 0:\n",
    "            S.append(x)\n",
    "        else:\n",
    "            if S[n-1] == x:\n",
    "                S.pop()\n",
    "            else:\n",
    "                S.append(x)\n",
    "                \n",
    "    if len(S) == 0:\n",
    "        return 1\n",
    "    else:\n",
    "        return 0\n",
    "    \n",
    "\n",
    "T = int(input())\n",
    "count = 0\n",
    "for _ in range(T):\n",
    "    X = input()\n",
    "    count += ABBA(X)\n",
    "print(count)"
   ]
  },
  {
   "cell_type": "markdown",
   "id": "5ed26a98",
   "metadata": {},
   "source": [
    "## 12873. 기념품\n",
    "* https://www.acmicpc.net/problem/12873"
   ]
  },
  {
   "cell_type": "code",
   "execution_count": 53,
   "id": "9c6fedb7",
   "metadata": {},
   "outputs": [
    {
     "name": "stdout",
     "output_type": "stream",
     "text": [
      "6\n",
      "\n",
      "\tt3: 1  lenA: 6  pop: 1  A: deque([2, 3, 4, 5, 6])\n",
      "\n",
      "\tt3: 8  lenA: 5  pop: 4  A: deque([5, 6, 2, 3])\n",
      "\n",
      "\tt3: 27  lenA: 4  pop: 2  A: deque([3, 5, 6])\n",
      "\n",
      "\tt3: 64  lenA: 3  pop: 3  A: deque([5, 6])\n",
      "\n",
      "\tt3: 125  lenA: 2  pop: 5  A: deque([6])\n",
      "6\n"
     ]
    }
   ],
   "source": [
    "# 1 (성공)\n",
    "from collections import deque\n",
    "\n",
    "N = int(input())\n",
    "A = deque(list(range(1, N+1)))\n",
    "\n",
    "t = 1\n",
    "while len(A) > 1:\n",
    "    A.rotate(-(t**3)%len(A))\n",
    "    A.pop()\n",
    "    #print(\"\\tt3:\", t**3, \" lenA:\", len(A), \" pop:\", A.pop(), \" A:\", A)\n",
    "    t += 1\n",
    "\n",
    "print(A[0])"
   ]
  },
  {
   "cell_type": "code",
   "execution_count": null,
   "id": "24826eec",
   "metadata": {},
   "outputs": [],
   "source": [
    "# rotate 없이 pop한 자리의 인덱스를 더하고 % 계산을 하는 방법도 있을 것으로 보임"
   ]
  },
  {
   "cell_type": "markdown",
   "id": "dc38bfee",
   "metadata": {},
   "source": [
    "## 15828. Router\n",
    "* https://www.acmicpc.net/problem/15828"
   ]
  },
  {
   "cell_type": "code",
   "execution_count": null,
   "id": "ac289bca",
   "metadata": {},
   "outputs": [],
   "source": []
  },
  {
   "cell_type": "markdown",
   "id": "76b45802",
   "metadata": {},
   "source": [
    "## 25497. 기술 연계마스터 임스\n",
    "* https://www.acmicpc.net/problem/25497"
   ]
  },
  {
   "cell_type": "code",
   "execution_count": 6,
   "id": "0010c0b8",
   "metadata": {},
   "outputs": [
    {
     "name": "stdout",
     "output_type": "stream",
     "text": [
      "4\n",
      "SSKK\n",
      "1\n"
     ]
    }
   ],
   "source": [
    "from collections import deque\n",
    "# L->R, S->K\n",
    "def combo(skill):\n",
    "    Slr = deque() # stack\n",
    "    Ssk = deque()\n",
    "    \n",
    "    count = 0\n",
    "    link = ''\n",
    "    for x in skill:\n",
    "        if ord(x) < 65: # ord(\"A\") == 65\n",
    "            count += 1\n",
    "        else:\n",
    "            link += x\n",
    "   \n",
    "    for x in link:\n",
    "        n1 = len(Slr)\n",
    "        n2 = len(Ssk)\n",
    "        \n",
    "        if x == 'L':\n",
    "            Slr.append(x)\n",
    "            l += 1\n",
    "        if x == 'R':\n",
    "            if n1 > 0 and Slr[n1-1] == 'L':\n",
    "                Slr.pop()\n",
    "                count += 1\n",
    "\n",
    "        if x == 'S':\n",
    "            Ssk.append(x)\n",
    "            s += 1\n",
    "        if x == 'K':\n",
    "            if s != 0 and Ssk[n2-1] == 'S':\n",
    "                Ssk.pop()\n",
    "                count += 1\n",
    "        \n",
    "    return count\n",
    "\n",
    "\n",
    "N = int(input())\n",
    "skill = input()\n",
    "print(combo(skill))"
   ]
  },
  {
   "cell_type": "code",
   "execution_count": 11,
   "id": "b899db01",
   "metadata": {},
   "outputs": [
    {
     "name": "stdout",
     "output_type": "stream",
     "text": [
      "1\n",
      "1\n",
      "1\n"
     ]
    }
   ],
   "source": [
    "# 1 (실패)\n",
    "def combo(skill):\n",
    "    count = 0\n",
    "    link = ''\n",
    "    for x in skill:\n",
    "        if ord(x) < 65: # ord(\"A\") == 65\n",
    "            count += 1\n",
    "        else:\n",
    "            link += x\n",
    "   \n",
    "    S = []\n",
    "    for x in link:\n",
    "        n = len(S)\n",
    "        if x == 'L':\n",
    "            S.append(x)\n",
    "        if x == 'R':\n",
    "            if 'L' not in S or (n > 0 and S[-1] != 'L'):\n",
    "                S.append(x)\n",
    "            else:\n",
    "                S.remove('L')\n",
    "                count += 1\n",
    "            \n",
    "        if x == 'S':\n",
    "            S.append(x)\n",
    "        if x == 'K':\n",
    "            if 'S' not in S or (n > 0 and S[-1] != 'S'):\n",
    "                S.append(x)\n",
    "            else:\n",
    "                S.remove('S')\n",
    "                count += 1\n",
    "                \n",
    "    return count\n",
    "\n",
    "\n",
    "N = int(input())\n",
    "skill = input()\n",
    "print(combo(skill))"
   ]
  },
  {
   "cell_type": "markdown",
   "id": "7263959f",
   "metadata": {},
   "source": [
    "## 15815. 천재 수학자 성필\n",
    "* https://www.acmicpc.net/problem/15815"
   ]
  },
  {
   "cell_type": "code",
   "execution_count": 15,
   "id": "23d0250d",
   "metadata": {},
   "outputs": [
    {
     "name": "stdout",
     "output_type": "stream",
     "text": [
      "23*22/+\n",
      "7\n"
     ]
    }
   ],
   "source": [
    "# 1 (성공)\n",
    "\n",
    "from collections import deque\n",
    "\n",
    "def cpu(eq):\n",
    "    S = deque() # stack\n",
    "    for t in eq:\n",
    "        if ord(t) >= 48:\n",
    "            S.append(int(t))\n",
    "        else:\n",
    "            y = S.pop()\n",
    "            x = S.pop()\n",
    "            if t == '+':\n",
    "                S.append(x+y)\n",
    "            if t == '-':\n",
    "                S.append(x-y)\n",
    "            if t == '*':\n",
    "                S.append(x*y)\n",
    "            if t == '/':\n",
    "                S.append(x/y)\n",
    "    \n",
    "    if S[0] == int(S[0]):\n",
    "        return int(S[0])\n",
    "    else:\n",
    "        return S[0]\n",
    "\n",
    "eq = input()\n",
    "print(cpu(eq))"
   ]
  },
  {
   "cell_type": "markdown",
   "id": "f511217f",
   "metadata": {},
   "source": [
    "## 10828. 스택\n",
    "* https://www.acmicpc.net/problem/10828"
   ]
  },
  {
   "cell_type": "code",
   "execution_count": 4,
   "id": "c6a2205c",
   "metadata": {},
   "outputs": [
    {
     "name": "stdout",
     "output_type": "stream",
     "text": [
      "-1\n",
      "-1\n",
      "123\n",
      "123\n",
      "-1\n",
      "-1\n"
     ]
    }
   ],
   "source": [
    "# from sys import stdin\n",
    "# input_ = stdin.readline\n",
    "\n",
    "# N = int(input_())\n",
    "N = int(input())\n",
    "A = []\n",
    "\n",
    "for _ in range(N):\n",
    "    # S = input_()\n",
    "    S = input()\n",
    "    \n",
    "    if S == 'pop':\n",
    "        if len(A) > 0:\n",
    "            print(A.pop())\n",
    "        else:\n",
    "            print(-1)\n",
    "    elif S == 'size':\n",
    "        print(len(A))\n",
    "    elif S == 'empty':\n",
    "        if len(A) > 0:\n",
    "            print(0)\n",
    "        else:\n",
    "            print(1)\n",
    "    elif S == 'top':\n",
    "        if len(A) > 0:\n",
    "            print(A[-1])\n",
    "        else:\n",
    "            print(-1)\n",
    "    else:\n",
    "        S1, x = S.split()\n",
    "        A.append(int(x))"
   ]
  },
  {
   "cell_type": "code",
   "execution_count": null,
   "id": "158eb0c8",
   "metadata": {},
   "outputs": [],
   "source": []
  }
 ],
 "metadata": {
  "kernelspec": {
   "display_name": "Python 3 (ipykernel)",
   "language": "python",
   "name": "python3"
  },
  "language_info": {
   "codemirror_mode": {
    "name": "ipython",
    "version": 3
   },
   "file_extension": ".py",
   "mimetype": "text/x-python",
   "name": "python",
   "nbconvert_exporter": "python",
   "pygments_lexer": "ipython3",
   "version": "3.8.8"
  }
 },
 "nbformat": 4,
 "nbformat_minor": 5
}
