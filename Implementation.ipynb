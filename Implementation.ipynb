{
 "cells": [
  {
   "cell_type": "markdown",
   "id": "489bcfd0",
   "metadata": {},
   "source": [
    "## 레이저빔은 어디로\n",
    "* https://www.acmicpc.net/problem/3709"
   ]
  },
  {
   "cell_type": "code",
   "execution_count": null,
   "id": "314f100c",
   "metadata": {},
   "outputs": [],
   "source": [
    "# 1 시도중\n",
    "\n",
    "def from12to9(M, x, y):\n",
    "    if M[x-1][y] == 0: #거울\n",
    "        \n",
    "        # 방향전환\n",
    "    return\n",
    "\n",
    "def from3to12(M, x, y):\n",
    "    \n",
    "    return\n",
    "\n",
    "def from6to3(M, x, y):\n",
    "    return\n",
    "\n",
    "def from9to6(M, x. y):\n",
    "    return\n",
    "\n",
    "\n",
    "def f3709(n, r, M):\n",
    "    while True: # 현위치가 nXn 안이면 계속 진행\n",
    "        \n",
    "    return\n",
    "\n",
    "\n",
    "T = int(input())\n",
    "for _ in range(T):\n",
    "    n, r = [int(x) for x in input().split()]\n",
    "    mirror = [[0] * (n+1) for _ in range(n+1)]\n",
    "    X, Y = [int(x) for x in input().split()]\n",
    "    mirror.append([X, Y])\n",
    "    print(f3709(mirror))\n",
    "    "
   ]
  },
  {
   "cell_type": "markdown",
   "id": "22e49b04",
   "metadata": {},
   "source": [
    "## 가위 바위 보\n",
    "* https://www.acmicpc.net/problem/8896"
   ]
  },
  {
   "cell_type": "code",
   "execution_count": 17,
   "id": "025cfe81",
   "metadata": {},
   "outputs": [
    {
     "name": "stdout",
     "output_type": "stream",
     "text": [
      "1\n",
      "3\n",
      "R\n",
      "R\n",
      "P\n",
      "0\n"
     ]
    }
   ],
   "source": [
    "# 1 (성공)\n",
    "import sys\n",
    "\n",
    "def RSP(X): # 가위바위보 게임을 진행해서 가위or바위or보를 return\n",
    "    rsp = []\n",
    "    for g in X:\n",
    "        if g != 'x':\n",
    "            rsp.append(g)\n",
    "    ls_rsp = list(set(rsp))\n",
    "    \n",
    "    if (ls_rsp[0] == 'R' and ls_rsp[1] == 'S') or (ls_rsp[0] == 'S' and ls_rsp[1] == 'R'): # 바위 > 가위\n",
    "        return 'R'\n",
    "    \n",
    "    elif (ls_rsp[0] == 'P' and ls_rsp[1] == 'R') or (ls_rsp[0] == 'R' and ls_rsp[1] == 'P'): # 보 > 바위\n",
    "        return 'P'\n",
    "\n",
    "    elif (ls_rsp[0] == 'S' and ls_rsp[1] == 'P') or (ls_rsp[0] == 'P' and ls_rsp[1] == 'S'): # 가위 > 보\n",
    "        return 'S'\n",
    "    \n",
    "    else:\n",
    "        return\n",
    "\n",
    "def f8896(N, X):\n",
    "    rounds = len(X[0])\n",
    "    lose = 'x' * rounds\n",
    "    \n",
    "    for i in range(rounds):\n",
    "        game = []\n",
    "        glog = []\n",
    "        for n in range(N): # 매 라운드마다 각 로봇의 가위바위보를 game에 저장\n",
    "            glog.append(X[n][i]) # x를 포함한 전체 가위바위보 저장\n",
    "            if X[n][i] != 'x': # x만 있는 로봇(패배한 로봇)의 가위바위보는 저장안함\n",
    "                game.append(X[n][i])\n",
    "        \n",
    "        if len(game) == 1: # 유일한 승자인 경우\n",
    "            return glog.index(game[0]) + 1\n",
    "        \n",
    "        if len(set(game)) != 2: # 비긴 경우 패스\n",
    "            continue\n",
    "        else:\n",
    "            win = RSP(game)\n",
    "            for n in range(N):\n",
    "                if X[n][i] != win:\n",
    "                    X[n] = lose\n",
    "    \n",
    "    return 0 # 라운드가 종료되었는데 둘 이상이 남아 있는 경우\n",
    "\n",
    "T = int(input())\n",
    "#T = int(sys.stdin.readline())\n",
    "for _ in range(T):\n",
    "    robots = []\n",
    "    N = int(input())\n",
    "    #N = int(sys.stdin.readline())\n",
    "    for _ in range(N):\n",
    "        robots.append(input())\n",
    "        #robots.append(sys.stdin.readline())\n",
    "        \n",
    "    print(f8896(N, robots))"
   ]
  },
  {
   "cell_type": "markdown",
   "id": "dfa7e2c3",
   "metadata": {},
   "source": [
    "## 제로\n",
    "* https://www.acmicpc.net/problem/10773"
   ]
  },
  {
   "cell_type": "code",
   "execution_count": 9,
   "id": "b7b2c580",
   "metadata": {},
   "outputs": [
    {
     "name": "stdout",
     "output_type": "stream",
     "text": [
      "4\n",
      "3\n",
      "1\n",
      "99\n",
      "0\n",
      "4\n"
     ]
    }
   ],
   "source": [
    "# 1 (성공)\n",
    "import sys\n",
    "\n",
    "K = int(input())\n",
    "#K = int(sys.stdin.readline())\n",
    "\n",
    "A = []\n",
    "for _ in range(K):\n",
    "    x = int(input())\n",
    "    #x = int(sys.stdin.readline())\n",
    "    if x != 0:\n",
    "        A.append(x)\n",
    "    else:\n",
    "        del A[-1]\n",
    "        # 2 A = A[:-1]\n",
    "        # 3 A.pop()\n",
    "        \n",
    "print(sum(A))"
   ]
  },
  {
   "cell_type": "markdown",
   "id": "99eb92ba",
   "metadata": {},
   "source": [
    "## 좋은놈 나쁜놈\n",
    "* https://www.acmicpc.net/problem/4447"
   ]
  },
  {
   "cell_type": "code",
   "execution_count": 3,
   "id": "067bc6c5",
   "metadata": {},
   "outputs": [
    {
     "name": "stdout",
     "output_type": "stream",
     "text": [
      "1\n",
      "Green Lantern\n",
      "Green Lantern is GOOD\n"
     ]
    }
   ],
   "source": [
    "# 1 (성공)\n",
    "def f4447(Hero):\n",
    "    result = ['GOOD', 'A BADDY', 'NEUTRAL']\n",
    "    G, B = 0, 0\n",
    "    for x in Hero:\n",
    "        if x == 'g' or x == 'G':\n",
    "            G += 1\n",
    "        if x == 'b' or x == 'B':\n",
    "            B += 1\n",
    "    \n",
    "    if G > B:\n",
    "        gbn = result[0]\n",
    "    elif G < B:\n",
    "        gbn = result[1]\n",
    "    else:\n",
    "        gbn = result[2]\n",
    "        \n",
    "    print('{0} is {1}'.format(Hero, gbn))\n",
    "\n",
    "n = int(input())\n",
    "for _ in range(n):\n",
    "    f4447(input())"
   ]
  },
  {
   "cell_type": "markdown",
   "id": "d615a8a0",
   "metadata": {},
   "source": [
    "## 숫자 야구\n",
    "* https://www.acmicpc.net/problem/2503"
   ]
  },
  {
   "cell_type": "code",
   "execution_count": null,
   "id": "ac49e2ea",
   "metadata": {
    "scrolled": true
   },
   "outputs": [],
   "source": [
    "# 1\n",
    "def f2503(ans, Q):\n",
    "    q0, q1, q2 = Q[0][0], Q[0][1], Q[0][2]\n",
    "    A = []\n",
    "                    \n",
    "    for x in ans:\n",
    "        if (q0 in x) or (q1 in x) or (q2 in x):\n",
    "            A.append(x)\n",
    "\n",
    "    return A\n",
    "\n",
    "\n",
    "N = int(input())\n",
    "Q = []\n",
    "\n",
    "temp = [str(s) for s in range(111, 1000)]\n",
    "ans = []\n",
    "for x in temp:\n",
    "    if '0' not in x:\n",
    "        ans.append(x)\n",
    "        \n",
    "for i in range(N):\n",
    "    Q = [int(x) for x in input().split()]\n",
    "    Q[0] = str(Q[0])\n",
    "    print(Q)\n",
    "    if Q[1] == 3:\n",
    "        ans = [Q[0]]\n",
    "        break\n",
    "        \n",
    "    ans = f2503(ans, Q) # 질문마다 ans 숫자들 중 해당 안되는 값 제거\n",
    "    \n",
    "print(ans)"
   ]
  },
  {
   "cell_type": "code",
   "execution_count": null,
   "id": "a8402852",
   "metadata": {},
   "outputs": [],
   "source": [
    "# 2\n",
    "def f2503(ans, Q):\n",
    "    q0, q1, q2 = Q[0][0], Q[0][1], Q[0][2]\n",
    "    A = []\n",
    "                    \n",
    "    for x in ans:\n",
    "        if (q0 in x) or (q1 in x) or (q2 in x):\n",
    "            A.append(x)\n",
    "\n",
    "    return A\n",
    "\n",
    "\n",
    "N = int(input())\n",
    "Q = []\n",
    "\n",
    "temp = [str(s) for s in range(123, 988)]\n",
    "ans = []\n",
    "for x in temp:\n",
    "    if ('0' not in x) and len(set(x)) == 3:\n",
    "        ans.append(x)\n",
    "        \n",
    "for i in range(N):\n",
    "    Q = [int(x) for x in input().split()]\n",
    "    Q[0] = str(Q[0])\n",
    "    \n",
    "    if Q[1] == 3:\n",
    "        ans = [Q[0]]\n",
    "        break\n",
    "    \n",
    "    ans = f2503(ans, Q) # 질문마다 ans 숫자들 중 해당 안되는 값 제거\n",
    "    print(\"\\t\", len(ans))\n",
    "    print(ans)\n",
    "    \n",
    "#print(ans)"
   ]
  },
  {
   "cell_type": "code",
   "execution_count": 18,
   "id": "e60592d3",
   "metadata": {},
   "outputs": [
    {
     "name": "stdout",
     "output_type": "stream",
     "text": [
      "4\n",
      "123 1 1\n",
      "356 1 0\n",
      "327 2 0\n",
      "489 0 1\n",
      "[['123', 1, 1], ['356', 1, 0], ['327', 2, 0], ['489', 0, 1]]\n",
      "[['3'], [], []]\n"
     ]
    }
   ],
   "source": [
    "# 3\n",
    "def f2503(Qs):\n",
    "    stk = []\n",
    "    ball = []\n",
    "    mix = []\n",
    "    \n",
    "    for q in Qs:\n",
    "        if q[1] == 0: # ball only\n",
    "            ball.append(q)\n",
    "        elif q[2] == 0: # strike only\n",
    "            stk.append(q)\n",
    "        else: # ball & strike\n",
    "            mix.append(q)\n",
    "    \n",
    "    stk_sets = [set(x[0]) for x in stk]\n",
    "    ans = [[], [], []]\n",
    "    for i in range(len(stk_sets)-1): # 스트라이크들 모아다가 공통 값 확인\n",
    "        x = list(stk_sets[i] & stk_sets[i+1])\n",
    "        if len(x) == 1:\n",
    "            pos = stk[i][0].index(x[0])\n",
    "            ans[pos].append(x[0])\n",
    "        if len(x) == 2:\n",
    "            pos1 = stk[i][0].index(x[0])\n",
    "            ans[pos1].append(x[0])\n",
    "            pos2 = stk[i][0].index(x[1])\n",
    "            ans[pos2].append(x[1])\n",
    "                \n",
    "    for i in range(len(mix)): #\n",
    "        if mix[2] == 1:\n",
    "            break\n",
    "    \n",
    "    return len(ans[0]) * len(ans[1]) * len(ans[2])\n",
    "\n",
    "        \n",
    "N = int(input()) \n",
    "Qs = []\n",
    "for i in range(N):\n",
    "    q = [int(x) for x in input().split()]\n",
    "    q[0] = str(q[0])\n",
    "    Qs.append(q)\n",
    "\n",
    "print(Qs)\n",
    "print(f2503(Qs))"
   ]
  },
  {
   "cell_type": "markdown",
   "id": "eb07af22",
   "metadata": {},
   "source": [
    "**2703_이찬솔\n",
    "- 순열과 질문을 비교\n",
    "- 각 자리를 확인하며 s,b 확인\n",
    "- 질문과 sb가 일치하면 다음 질문으로 또 확인"
   ]
  },
  {
   "cell_type": "markdown",
   "id": "5b5f98a3",
   "metadata": {},
   "source": [
    "## 방 번호\n",
    "* https://www.acmicpc.net/problem/1475"
   ]
  },
  {
   "cell_type": "code",
   "execution_count": 2,
   "id": "c1b8da47",
   "metadata": {
    "scrolled": true
   },
   "outputs": [
    {
     "name": "stdout",
     "output_type": "stream",
     "text": [
      "1122334455667788999\n",
      "[0, 2, 2, 2, 2, 2, 2, 2, 2, 3]\n",
      "3\n"
     ]
    }
   ],
   "source": [
    "# 1 (실패)\n",
    "# 6의 갯수가 올림한 값보다 많을 수 있음\n",
    "import math\n",
    "\n",
    "X = input()\n",
    "A = [0] * 10\n",
    "for n in range(10):\n",
    "    A[n] = X.count(str(n))\n",
    "\n",
    "A[9] = math.ceil((A[6]+A[9]) / 2)\n",
    "\n",
    "#print(A)\n",
    "print(max(A))"
   ]
  },
  {
   "cell_type": "code",
   "execution_count": 6,
   "id": "bf0abebf",
   "metadata": {},
   "outputs": [
    {
     "name": "stdout",
     "output_type": "stream",
     "text": [
      "1234567899\n",
      "[0, 1, 1, 1, 1, 1, 2, 1, 1, 2]\n",
      "2\n"
     ]
    }
   ],
   "source": [
    "# 2 (성공)\n",
    "import math\n",
    "\n",
    "X = input()\n",
    "A = [0] * 10\n",
    "for n in range(10):\n",
    "    A[n] = X.count(str(n))\n",
    "\n",
    "A[6] = math.ceil((A[6]+A[9]) / 2)\n",
    "A[9] = 0\n",
    "\n",
    "#print(A)\n",
    "print(max(A))"
   ]
  },
  {
   "cell_type": "markdown",
   "id": "9619e77e",
   "metadata": {},
   "source": [
    "## 집합\n",
    "* https://www.acmicpc.net/problem/11723"
   ]
  },
  {
   "cell_type": "code",
   "execution_count": 2,
   "id": "8f202e0f",
   "metadata": {},
   "outputs": [
    {
     "name": "stdout",
     "output_type": "stream",
     "text": [
      "1\n",
      "all\n"
     ]
    }
   ],
   "source": [
    "# 1 (성공)\n",
    "#import sys\n",
    "\n",
    "def add(S, x):\n",
    "    if x not in S:\n",
    "        S.append(x)\n",
    "    return S\n",
    "\n",
    "def remove(S, x):\n",
    "    if x in S:\n",
    "        S.remove(x)\n",
    "    return S\n",
    "\n",
    "def check(S, x):\n",
    "    if x in S:\n",
    "        print(1)\n",
    "    else:\n",
    "        print(0)\n",
    "\n",
    "def toggle(S, x):\n",
    "    if x in S:\n",
    "        S.remove(x)\n",
    "    else:\n",
    "        S.append(x)\n",
    "    return S\n",
    "\n",
    "\n",
    "M = int(input())\n",
    "S = []\n",
    "ALL = list(range(1, 21))\n",
    "\n",
    "for _ in range(M):\n",
    "    Q = [x for x in input().split()]\n",
    "    #Q = [x for x in sys.stdin.readline().split()]\n",
    "    \n",
    "    if Q[0] == 'add':\n",
    "        S = add(S, int(Q[1]))\n",
    "    elif Q[0] == 'remove':\n",
    "        S = remove(S, int(Q[1]))\n",
    "    elif Q[0] == 'check':\n",
    "        check(S, int(Q[1]))\n",
    "    elif Q[0] == 'toggle':\n",
    "        S = toggle(S, int(Q[1]))\n",
    "    elif Q[0] == 'all':\n",
    "        S = ALL[:]\n",
    "    elif Q[0] == 'empty':\n",
    "        S = []\n",
    "    else:\n",
    "        print()\n"
   ]
  },
  {
   "cell_type": "code",
   "execution_count": null,
   "id": "1b6ec054",
   "metadata": {},
   "outputs": [],
   "source": [
    "# 코테_박진영\n",
    "\n",
    "n = int(sys.stdin.readline())\n",
    "S = set()\n",
    "\n",
    "for _ in range(n):\n",
    "    arr = sys.stdin.readline().strip().split()\n",
    "    \n",
    "    if len(arr) == 2:\n",
    "        if arr[0] == \"add\":\n",
    "            S.add(arr[1])\n",
    "        elif arr[0] == \"remove\":\n",
    "            S.discard(arr[1])\n",
    "        elif arr[0] == \"check\":\n",
    "            if arr[1] in S:\n",
    "                print(1)\n",
    "            else:\n",
    "                print(0)\n",
    "        elif arr[0] == \"toggle\":\n",
    "            if arr[1] in S:\n",
    "                S.discard(arr[1])\n",
    "            else:\n",
    "                S.add(arr[1])\n",
    "    else:\n",
    "        if arr[0] == \"all\":\n",
    "            S = ([i for i in range(1, 21)])\n",
    "        else:\n",
    "            S = set()\n",
    "\n",
    "            \n",
    "# 코테_이찬솔\n",
    "# 비트마스킹"
   ]
  },
  {
   "cell_type": "markdown",
   "id": "b11f2b05",
   "metadata": {},
   "source": [
    "## 7568. 덩치\n",
    "* https://www.acmicpc.net/problem/7568"
   ]
  },
  {
   "cell_type": "code",
   "execution_count": 1,
   "id": "625d332d",
   "metadata": {},
   "outputs": [
    {
     "name": "stdout",
     "output_type": "stream",
     "text": [
      "[[55, 185], [58, 183], [88, 186]]\n"
     ]
    }
   ],
   "source": [
    "# 등수 배열에 각 정보를 추가하고 비교\n",
    "N = int(input())\n",
    "A = []\n",
    "for _ in range(N):\n",
    "    x, y = map(int, input().split())\n",
    "    A.append([x, y])\n",
    "\n",
    "\n",
    "R = [[] for _ in range(N)]\n",
    "for x in A:\n",
    "    for y in R:\n",
    "        if x[0] > y[0] and x[1] > y[1]:\n",
    "\n"
   ]
  },
  {
   "cell_type": "code",
   "execution_count": 14,
   "id": "c1ec149a",
   "metadata": {},
   "outputs": [
    {
     "data": {
      "text/plain": [
       "[[88, 186], [55, 185], [58, 183]]"
      ]
     },
     "execution_count": 14,
     "metadata": {},
     "output_type": "execute_result"
    }
   ],
   "source": [
    "sorted(A, key=lambda A:A[1], reverse=True)"
   ]
  },
  {
   "cell_type": "code",
   "execution_count": 13,
   "id": "3218f854",
   "metadata": {},
   "outputs": [
    {
     "ename": "ValueError",
     "evalue": "invalid literal for int() with base 10: ''",
     "output_type": "error",
     "traceback": [
      "\u001b[1;31m---------------------------------------------------------------------------\u001b[0m",
      "\u001b[1;31mValueError\u001b[0m                                Traceback (most recent call last)",
      "Cell \u001b[1;32mIn[13], line 2\u001b[0m\n\u001b[0;32m      1\u001b[0m \u001b[39m# 정렬\u001b[39;00m\n\u001b[1;32m----> 2\u001b[0m N \u001b[39m=\u001b[39m \u001b[39mint\u001b[39;49m(\u001b[39minput\u001b[39;49m())\n\u001b[0;32m      3\u001b[0m A \u001b[39m=\u001b[39m []\n\u001b[0;32m      4\u001b[0m \u001b[39mfor\u001b[39;00m _ \u001b[39min\u001b[39;00m \u001b[39mrange\u001b[39m(N):\n",
      "\u001b[1;31mValueError\u001b[0m: invalid literal for int() with base 10: ''"
     ]
    }
   ],
   "source": [
    "# 정렬\n",
    "N = int(input())\n",
    "A = []\n",
    "for _ in range(N):\n",
    "    x, y = map(int, input().split())\n",
    "    A.append([x, y])\n",
    "\n",
    "A = sorted(A, key=lambda A:A[0], reverse=True)\n",
    "\n",
    "rank = 1\n",
    "for i in range(len(A)-1):\n",
    "    x, y = A[i], A[i+1]\n",
    "    if x[1] > y[1]:\n",
    "        x.append(rank)\n",
    "    else:\n",
    "        \n"
   ]
  }
 ],
 "metadata": {
  "kernelspec": {
   "display_name": "Python 3 (ipykernel)",
   "language": "python",
   "name": "python3"
  },
  "language_info": {
   "codemirror_mode": {
    "name": "ipython",
    "version": 3
   },
   "file_extension": ".py",
   "mimetype": "text/x-python",
   "name": "python",
   "nbconvert_exporter": "python",
   "pygments_lexer": "ipython3",
   "version": "3.8.8"
  }
 },
 "nbformat": 4,
 "nbformat_minor": 5
}
