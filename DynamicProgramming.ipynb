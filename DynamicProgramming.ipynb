{
 "cells": [
  {
   "cell_type": "markdown",
   "id": "4bee745a",
   "metadata": {},
   "source": [
    "## 1003. 피보나치 함수\n",
    "* https://www.acmicpc.net/problem/1003"
   ]
  },
  {
   "cell_type": "code",
   "execution_count": 8,
   "id": "5578406d",
   "metadata": {},
   "outputs": [
    {
     "name": "stdout",
     "output_type": "stream",
     "text": [
      "2\n",
      "6\n",
      "5 8\n",
      "22\n",
      "10946 17711\n"
     ]
    }
   ],
   "source": [
    "# 1 성공\n",
    "\n",
    "def fibo01(N):\n",
    "    A = [[1, 0], [0, 1]]\n",
    "    for n in range(2, N+1):\n",
    "        t0 = A[n-1][0] + A[n-2][0]\n",
    "        t1 = A[n-1][1] + A[n-2][1]\n",
    "        A.append([t0, t1])\n",
    "    \n",
    "    print(A[N][0], A[N][1])\n",
    "\n",
    "T = int(input())\n",
    "for _ in range(T):\n",
    "    x = int(input())\n",
    "    fibo01(x)"
   ]
  },
  {
   "cell_type": "markdown",
   "id": "4e7a8a90",
   "metadata": {},
   "source": [
    "## 2775. 부녀회장이 될테야\n",
    "* https://www.acmicpc.net/problem/2775"
   ]
  },
  {
   "cell_type": "code",
   "execution_count": 19,
   "id": "fa8f07fe",
   "metadata": {},
   "outputs": [
    {
     "name": "stdout",
     "output_type": "stream",
     "text": [
      "2\n",
      "1\n",
      "3\n",
      "6\n",
      "2\n",
      "3\n",
      "10\n"
     ]
    }
   ],
   "source": [
    "# 1 (성공)\n",
    "def DP(k, n):\n",
    "    APT = [list(range(1, n+1))]\n",
    "    if k == 0:\n",
    "        return APT[0][n-1]\n",
    "    else:\n",
    "        for _ in range(k): # k층 1호 전부 추가\n",
    "            APT.append([1])\n",
    "        f = 0\n",
    "        while f < k:\n",
    "            f += 1\n",
    "            for i in range(1, n):\n",
    "                APT[f].append(APT[f][i-1] + APT[f-1][i])\n",
    "                \n",
    "        return APT[k][n-1]\n",
    "\n",
    "\n",
    "T = int(input())\n",
    "for _ in range(T):\n",
    "    k = int(input()) # 층\n",
    "    n = int(input()) # 호수\n",
    "    print(DP(k, n))"
   ]
  },
  {
   "cell_type": "markdown",
   "id": "f6405b4c",
   "metadata": {},
   "source": [
    "## 9184. 신나는 함수 실행\n",
    "* https://www.acmicpc.net/problem/9184"
   ]
  },
  {
   "cell_type": "code",
   "execution_count": 5,
   "id": "77885b06",
   "metadata": {},
   "outputs": [
    {
     "name": "stdout",
     "output_type": "stream",
     "text": [
      "1 1 1\n",
      "4: w(1, 1, 1)\n",
      "1: w(0, 1, 1)\n",
      "1: w(0, 0, 1)\n",
      "1: w(0, 1, 0)\n",
      "1: w(0, 0, 0)\n",
      "w(1, 1, 1) = 2\n",
      "-1 -1 -1\n"
     ]
    }
   ],
   "source": [
    "dp = [[[0] * 21] for _ in range(21) for _ in range(21)]\n",
    "\n",
    "def w(a, b, c):\n",
    "    if a <= 0 or b <= 0 or c <= 0:\n",
    "        print(\"1: w(%d, %d, %d)\" % (a, b, c))\n",
    "        return 1\n",
    "\n",
    "    if a > 20 or b > 20 or c > 20:\n",
    "        print(\"2: w(%d, %d, %d)\" % (a, b, c))\n",
    "        return w(20, 20, 20)\n",
    "\n",
    "    if a < b and b < c:\n",
    "        print(\"3: w(%d, %d, %d)\" % (a, b, c))\n",
    "        return w(a, b, c-1) + w(a, b-1, c-1) - w(a, b-1, c)\n",
    "\n",
    "    else:\n",
    "        print(\"4: w(%d, %d, %d)\" % (a, b, c))\n",
    "        return w(a-1, b, c) + w(a-1, b-1, c) + w(a-1, b, c-1) - w(a-1, b-1, c-1)\n",
    "\n",
    "while True:\n",
    "    a, b, c = [int(x) for x in input().split()]\n",
    "    if a == -1 and b == -1 and c == -1:\n",
    "        break\n",
    "    print(\"w(%d, %d, %d) = %d\" % (a, b, c, w(a, b, c)) )"
   ]
  },
  {
   "cell_type": "code",
   "execution_count": 9,
   "id": "6003e34d",
   "metadata": {},
   "outputs": [
    {
     "data": {
      "text/plain": [
       "[[[0, 0, 0, 0]],\n",
       " [[1, 1, 1, 1]],\n",
       " [[2, 2, 2, 2]],\n",
       " [[3, 3, 3, 3]],\n",
       " [[1, 1, 1, 1]],\n",
       " [[2, 2, 2, 2]],\n",
       " [[3, 3, 3, 3]],\n",
       " [[4, 4, 4, 4]],\n",
       " [[2, 2, 2, 2]],\n",
       " [[3, 3, 3, 3]],\n",
       " [[4, 4, 4, 4]],\n",
       " [[5, 5, 5, 5]],\n",
       " [[3, 3, 3, 3]],\n",
       " [[4, 4, 4, 4]],\n",
       " [[5, 5, 5, 5]],\n",
       " [[6, 6, 6, 6]]]"
      ]
     },
     "execution_count": 9,
     "metadata": {},
     "output_type": "execute_result"
    }
   ],
   "source": [
    "dp = [[[i+j] * 4] for i in range(4) for j in range(4)]\n",
    "dp"
   ]
  },
  {
   "cell_type": "markdown",
   "id": "317293f9",
   "metadata": {},
   "source": [
    "## 9084. 동전\n",
    "* https://www.acmicpc.net/problem/9084"
   ]
  },
  {
   "cell_type": "markdown",
   "id": "0f44e875",
   "metadata": {},
   "source": [
    "* https://songsunbi.tistory.com/67"
   ]
  },
  {
   "cell_type": "code",
   "execution_count": null,
   "id": "290cbfea",
   "metadata": {},
   "outputs": [],
   "source": [
    "def C(coin, target):\n",
    "    \n",
    "    return\n",
    "\n",
    "\n",
    "T = int(input())\n",
    "for _ in range(T):\n",
    "    N = int(input())\n",
    "    coin = [int(x) for x in input().split()]\n",
    "    target = int(input())\n",
    "    print(C(coin, target))"
   ]
  },
  {
   "cell_type": "markdown",
   "id": "cffc6ded",
   "metadata": {},
   "source": [
    "## 11053. 가장 긴 증가하는 부분 수열\n",
    "* https://www.acmicpc.net/problem/11053"
   ]
  },
  {
   "cell_type": "code",
   "execution_count": 12,
   "id": "cd17f3a9",
   "metadata": {},
   "outputs": [
    {
     "name": "stdout",
     "output_type": "stream",
     "text": [
      "9\n",
      "5 10 50 60 70 20 30 40 50\n",
      "8\n"
     ]
    }
   ],
   "source": [
    "# 1 (실패)\n",
    "# https://www.acmicpc.net/board/view/114371\n",
    "N = int(input())\n",
    "A = [int(x) for x in input().split()]\n",
    "dp = [[1] * N for _ in range(N)]\n",
    "\n",
    "def LIS():\n",
    "    for i in range(N):\n",
    "        for j in range(i+1, N):\n",
    "            if A[j] > A[j-1]:\n",
    "                dp[i][j] = dp[i][j-1] + 1\n",
    "            else:\n",
    "                dp[i][j] = dp[i][j-1]\n",
    "    return\n",
    "\n",
    "LIS()\n",
    "partmax = 1\n",
    "for i in range(N):\n",
    "    curmax = max(dp[i])\n",
    "    if curmax > partmax:\n",
    "        partmax = curmax\n",
    "\n",
    "print(partmax)"
   ]
  },
  {
   "cell_type": "markdown",
   "id": "d5896793",
   "metadata": {},
   "source": [
    "* https://4legs-study.tistory.com/106"
   ]
  },
  {
   "cell_type": "code",
   "execution_count": 4,
   "id": "ae7b143d",
   "metadata": {},
   "outputs": [
    {
     "name": "stdout",
     "output_type": "stream",
     "text": [
      "9\n",
      "5 10 50 60 70 20 30 40 50\n",
      "6\n"
     ]
    }
   ],
   "source": [
    "# 2 (성공)\n",
    "N = int(input())\n",
    "A = [int(x) for x in input().split()]\n",
    "dp = [0] * N\n",
    "\n",
    "def LIS():\n",
    "    res = 0\n",
    "    for i in range(N):\n",
    "        dp[i] = 1 # 현재 확인할 수\n",
    "        for j in range(i): # 처음부터 현재 확인할 수 이전까지를 확인\n",
    "            if A[i] > A[j]:\n",
    "                dp[i] = max(dp[j] + 1, dp[i]) # j까지의 수열 중 최장 증가 수열의 길이, i까지의 수열 중 최장 증가 수열의 길이\n",
    "        res = max(res, dp[i]) # 최대 길이 갱신\n",
    "    \n",
    "    return res\n",
    "\n",
    "print(LIS())"
   ]
  },
  {
   "cell_type": "markdown",
   "id": "ea96ecda",
   "metadata": {},
   "source": [
    "## 1932. 정수 삼각형\n",
    "* https://www.acmicpc.net/problem/1932"
   ]
  },
  {
   "cell_type": "code",
   "execution_count": null,
   "id": "3ca750c9",
   "metadata": {},
   "outputs": [],
   "source": [
    "N = int(input())\n",
    "A = []\n",
    "for _ in range(N):\n",
    "    t = [int(x) for x in input().split()]\n",
    "    A.append(t)\n",
    "    \n"
   ]
  },
  {
   "cell_type": "markdown",
   "id": "7e72bd56",
   "metadata": {},
   "source": [
    "## 9655. 돌 게임\n",
    "* https://www.acmicpc.net/problem/9655"
   ]
  },
  {
   "cell_type": "markdown",
   "id": "485ff2a5",
   "metadata": {},
   "source": [
    "* https://beginnerdeveloper-lit.tistory.com/83"
   ]
  },
  {
   "cell_type": "code",
   "execution_count": null,
   "id": "5243d049",
   "metadata": {},
   "outputs": [],
   "source": [
    "# 1 (실패)\n",
    "\n",
    "N = int(input())\n",
    "dp = [0] * (N+1)\n",
    "dp[1] = 1 # 1\n",
    "dp[2] = 2 # 1-1\n",
    "dp[3] = 1 # 3\n",
    "\n",
    "def stone(N):\n",
    "    if N < 4:\n",
    "        return dp[N]\n",
    "    for i in range(4, N+1):\n",
    "        dp[i] = dp[i-3] + 1\n",
    "    return dp[N]\n",
    "\n",
    "res = stone(N)\n",
    "if res % 2 == 0:\n",
    "    print(\"CY\")\n",
    "else:\n",
    "    print(\"SK\")"
   ]
  },
  {
   "cell_type": "code",
   "execution_count": 1,
   "id": "11cf9f41",
   "metadata": {},
   "outputs": [
    {
     "name": "stdout",
     "output_type": "stream",
     "text": [
      "10\n",
      "4 개  2 회\n",
      "5 개  3 회\n",
      "6 개  2 회\n",
      "7 개  3 회\n",
      "8 개  4 회\n",
      "9 개  3 회\n",
      "10 개  4 회\n",
      "CY\n"
     ]
    }
   ],
   "source": [
    "# 2 (성공)\n",
    "N = int(input())\n",
    "dp = [0] * (N+3) # index 주의\n",
    "dp[1] = 1 # 1\n",
    "dp[2] = 2 # 1-1\n",
    "dp[3] = 1 # 3\n",
    "\n",
    "def stone(N):\n",
    "    if N < 4:\n",
    "        return dp[N]\n",
    "    for i in range(4, N+1):\n",
    "        dp[i] = min(dp[i-3], dp[i-1]) + 1\n",
    "        print(i, \"개 \", dp[i], \"회\")\n",
    "    return dp[N]\n",
    "\n",
    "res = stone(N)\n",
    "if res % 2 == 0:\n",
    "    print(\"CY\")\n",
    "else:\n",
    "    print(\"SK\")"
   ]
  },
  {
   "cell_type": "markdown",
   "id": "ef714116",
   "metadata": {},
   "source": [
    "## 1965. 상자넣기\n",
    "* https://www.acmicpc.net/problem/1965"
   ]
  },
  {
   "cell_type": "code",
   "execution_count": 5,
   "id": "1b514d16",
   "metadata": {},
   "outputs": [
    {
     "name": "stdout",
     "output_type": "stream",
     "text": [
      "8\n",
      "1 6 2 5 7 3 5 6\n",
      "5\n"
     ]
    }
   ],
   "source": [
    "# 1 (성공)\n",
    "N = int(input())\n",
    "A = [int(x) for x in input().split()]\n",
    "dp = [0] * N\n",
    "\n",
    "def LIS():\n",
    "    res = 0\n",
    "    for i in range(N):\n",
    "        dp[i] = 1 # 현재 확인할 수\n",
    "        for j in range(i): # 처음부터 현재 확인할 수 이전까지를 확인\n",
    "            if A[i] > A[j]:\n",
    "                dp[i] = max(dp[j] + 1, dp[i]) # j까지의 수열 중 최장 증가 수열의 길이, i까지의 수열 중 최장 증가 수열의 길이\n",
    "        res = max(res, dp[i]) # 최대 길이 갱신\n",
    "    \n",
    "    return res\n",
    "\n",
    "print(LIS())"
   ]
  },
  {
   "cell_type": "markdown",
   "id": "6ed71b08",
   "metadata": {},
   "source": [
    "## 1463. 1로 만들기\n",
    "* https://www.acmicpc.net/problem/1463"
   ]
  },
  {
   "cell_type": "code",
   "execution_count": 15,
   "id": "1853cd49",
   "metadata": {},
   "outputs": [
    {
     "name": "stdout",
     "output_type": "stream",
     "text": [
      "[0, 1, 2, 3, 4, 5, 6]\n",
      "[0, 0, 1, 1, 2, 3, 5]\n",
      "3\n"
     ]
    }
   ],
   "source": [
    "# 1 (성공)\n",
    "N = int(input())\n",
    "\n",
    "d = [N] * (N+2) # d[x] : x가 되기 위해 필요한 횟수\n",
    "d[0] = d[1] = 0\n",
    "d[2] = d[3] = 1\n",
    "\n",
    "print(list(range(0, N+2)))\n",
    "if N > 4:\n",
    "    for i in range(4, N+1):\n",
    "        d[i] = d[i-1] + 1\n",
    "        if i % 2 == 0:\n",
    "            d[i] = min(d[i], d[i//2]+1)\n",
    "        if i % 3 == 0:\n",
    "            d[i] = min(d[i], d[i//3]+1)\n",
    "\n",
    "print(d)\n",
    "print(d[N])"
   ]
  },
  {
   "cell_type": "markdown",
   "id": "52afd1d1",
   "metadata": {},
   "source": [
    "## 9095. 1, 2, 3 더하기\n",
    "* https://www.acmicpc.net/problem/9095"
   ]
  },
  {
   "cell_type": "code",
   "execution_count": 19,
   "id": "fa33417e",
   "metadata": {},
   "outputs": [
    {
     "name": "stdout",
     "output_type": "stream",
     "text": [
      "7\n",
      "44\n",
      "274\n"
     ]
    }
   ],
   "source": [
    "# 1 (성공)\n",
    "T = int(input())\n",
    "t = []\n",
    "for _ in range(T):\n",
    "    t.append(int(input()))\n",
    "\n",
    "maxt = max(t)\n",
    "\n",
    "d = [0] * (maxt+1)\n",
    "d[1] = 1\n",
    "d[2] = 2\n",
    "d[3] = 4\n",
    "for i in range(4, maxt+1):\n",
    "    d[i] = d[i-1] + d[i-2] + d[i-3]\n",
    "\n",
    "for n in t:\n",
    "    print(d[n])"
   ]
  },
  {
   "cell_type": "markdown",
   "id": "9ca20cb8",
   "metadata": {},
   "source": [
    "## 11726. 2xn 타일링\n",
    "* https://www.acmicpc.net/problem/11726"
   ]
  },
  {
   "cell_type": "code",
   "execution_count": 5,
   "id": "6dd6863b",
   "metadata": {},
   "outputs": [
    {
     "name": "stdout",
     "output_type": "stream",
     "text": [
      "55\n"
     ]
    }
   ],
   "source": [
    "# 1 (성공)\n",
    "n = int(input())\n",
    "\n",
    "d = [0] * (n+1)\n",
    "d[1] = 1\n",
    "d[2] = 2\n",
    "\n",
    "if n > 2:\n",
    "    for i in range(3, n+1):\n",
    "        d[i] = d[i-1] + d[i-2]\n",
    "\n",
    "print(d[n] % 10007)\n",
    "\n",
    "# ... | | |\n",
    "# ... | ="
   ]
  }
 ],
 "metadata": {
  "kernelspec": {
   "display_name": "Python 3 (ipykernel)",
   "language": "python",
   "name": "python3"
  },
  "language_info": {
   "codemirror_mode": {
    "name": "ipython",
    "version": 3
   },
   "file_extension": ".py",
   "mimetype": "text/x-python",
   "name": "python",
   "nbconvert_exporter": "python",
   "pygments_lexer": "ipython3",
   "version": "3.8.8"
  }
 },
 "nbformat": 4,
 "nbformat_minor": 5
}
