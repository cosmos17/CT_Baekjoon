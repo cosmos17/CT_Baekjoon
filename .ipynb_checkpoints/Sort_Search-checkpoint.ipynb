{
 "cells": [
  {
   "cell_type": "markdown",
   "id": "1df1d8de",
   "metadata": {},
   "source": [
    "## 2751. 수 정렬하기 2\n",
    "* https://www.acmicpc.net/problem/2751"
   ]
  },
  {
   "cell_type": "code",
   "execution_count": null,
   "id": "e6ee20d3",
   "metadata": {},
   "outputs": [],
   "source": [
    "import sys\n",
    "\n",
    "N = int(sys.stdin.readline())\n",
    "A = []\n",
    "for _ in range(N):\n",
    "    A.append(int(sys.stdin.readline()))\n",
    "    \n",
    "A.sort()\n",
    "for x in A:\n",
    "    print(x)"
   ]
  },
  {
   "cell_type": "code",
   "execution_count": null,
   "id": "46b37609",
   "metadata": {},
   "outputs": [],
   "source": [
    "merge sort 써보기"
   ]
  },
  {
   "cell_type": "markdown",
   "id": "6ddd4f15",
   "metadata": {},
   "source": [
    "## 10989. 수 정렬하기 3\n",
    "* https://www.acmicpc.net/problem/10989"
   ]
  },
  {
   "cell_type": "code",
   "execution_count": 1,
   "id": "7cf64925",
   "metadata": {},
   "outputs": [
    {
     "name": "stdout",
     "output_type": "stream",
     "text": [
      "5\n",
      "3\n",
      "4\n",
      "1\n",
      "2\n",
      "5\n",
      "1\n",
      "2\n",
      "3\n",
      "4\n",
      "5\n"
     ]
    }
   ],
   "source": [
    "import sys\n",
    "\n",
    "#N = int(sys.stdin.readline())\n",
    "N = int(input())\n",
    "A = []\n",
    "for _ in range(N):\n",
    "    #A.append(int(sys.stdin.readline()))\n",
    "    A.append(int(input()))\n",
    "    \n",
    "for i in range(N):\n",
    "    for j in range(i, N):\n",
    "        if A[i] > A[j]:\n",
    "            A[i], A[j] = A[j], A[i]\n",
    "    \n",
    "\n",
    "for x in A:\n",
    "    print(x)"
   ]
  },
  {
   "cell_type": "code",
   "execution_count": 2,
   "id": "7784730d",
   "metadata": {},
   "outputs": [
    {
     "name": "stdout",
     "output_type": "stream",
     "text": [
      "5\n",
      "3\n",
      "3\n",
      "1\n",
      "2\n",
      "4\n",
      "1\n",
      "2\n",
      "3\n",
      "3\n",
      "4\n"
     ]
    }
   ],
   "source": [
    "# 코테_신용준\n",
    "import sys\n",
    "\n",
    "#N = int(sys.stdin.readline())\n",
    "N = int(input())\n",
    "A = [0] * 10001\n",
    "for _ in range(N):\n",
    "    A[int(input())] += 1\n",
    "    \n",
    "for i in range(10001):\n",
    "    if A[i] != 0:\n",
    "        for _ in range(A[i]):\n",
    "            print(i)\n",
    "            "
   ]
  },
  {
   "cell_type": "markdown",
   "id": "e3f68348",
   "metadata": {},
   "source": [
    "## 1920. 수 찾기\n",
    "* https://www.acmicpc.net/problem/1920"
   ]
  },
  {
   "cell_type": "code",
   "execution_count": 8,
   "id": "86afa96a",
   "metadata": {},
   "outputs": [
    {
     "name": "stdout",
     "output_type": "stream",
     "text": [
      "5\n",
      "1 2 3 4 5\n",
      "5\n",
      "1 3 7 9 5\n",
      "st: 0  en: 4\n",
      "st: 0  en: 1\n",
      "1\n",
      "st: 0  en: 4\n",
      "1\n",
      "st: 0  en: 4\n",
      "st: 3  en: 4\n",
      "st: 4  en: 4\n",
      "st: 5  en: 4\n",
      "0\n",
      "st: 0  en: 4\n",
      "st: 3  en: 4\n",
      "st: 4  en: 4\n",
      "st: 5  en: 4\n",
      "0\n",
      "st: 0  en: 4\n",
      "st: 3  en: 4\n",
      "st: 4  en: 4\n",
      "1\n"
     ]
    }
   ],
   "source": [
    "# 1 (성공)\n",
    "def binary_search(A, target, st, en):\n",
    "    #print(\"st:\", st, \" en:\", en)\n",
    "    if st > en:\n",
    "        return 0\n",
    "    mi = (st + en) // 2\n",
    "    if A[mi] == target:\n",
    "        return 1\n",
    "    elif A[mi] > target:\n",
    "        return binary_search(A, target, st, mi-1)\n",
    "    else:\n",
    "        return binary_search(A, target, mi+1, en)\n",
    "\n",
    "\n",
    "N = int(input())\n",
    "A = [int(x) for x in input().split()]\n",
    "ta = int(input()) # 찾으려는 수의 갯수\n",
    "T = [int(x) for x in input().split()] # 찾으려는 수들\n",
    "\n",
    "A.sort()\n",
    "for x in T:\n",
    "    print(binary_search(A, x, 0, N-1))"
   ]
  },
  {
   "cell_type": "markdown",
   "id": "b472845b",
   "metadata": {},
   "source": [
    "## 2512. 예산\n",
    "* https://www.acmicpc.net/problem/2512"
   ]
  },
  {
   "cell_type": "code",
   "execution_count": 14,
   "id": "b60aec98",
   "metadata": {},
   "outputs": [
    {
     "name": "stdout",
     "output_type": "stream",
     "text": [
      "4\n",
      "120 110 140 150\n",
      "485\n",
      "M: 485\n",
      "M: 375\n",
      "M: 255\n",
      "M: 115\n",
      "[121, 125, 127, 115]\n"
     ]
    }
   ],
   "source": [
    "# 1 (성공)\n",
    "\n",
    "N = int(input())\n",
    "A = [int(x) for x in input().split()]\n",
    "M = int(input())\n",
    "\n",
    "A.sort()\n",
    "res = []\n",
    "\n",
    "if sum(A) <= M:\n",
    "    print(A[-1])\n",
    "else:\n",
    "    for i in range(N):\n",
    "        print(\"M:\", M)\n",
    "        res.append(M // (N-i))\n",
    "        M -= A[i]   \n",
    "    print(res)      "
   ]
  },
  {
   "cell_type": "markdown",
   "id": "767a8a23",
   "metadata": {},
   "source": [
    "## 23881. 알고리즘 수업 - 선택 정렬 1\n",
    "* https://www.acmicpc.net/problem/23881"
   ]
  },
  {
   "cell_type": "code",
   "execution_count": 9,
   "id": "d9f92df4",
   "metadata": {},
   "outputs": [
    {
     "name": "stdout",
     "output_type": "stream",
     "text": [
      "5 4\n",
      "3 1 2 5 4\n",
      "2 1\n"
     ]
    }
   ],
   "source": [
    "# 1 (실패)\n",
    "N, K = [int(x) for x in input().split()]\n",
    "A = [int(x) for x in input().split()]\n",
    "\n",
    "def selection_sort(K):\n",
    "    for i in range(N):\n",
    "        min_id = i\n",
    "        for j in range(i+1, N):\n",
    "            if A[min_id] > A[j]:\n",
    "                min_id = j\n",
    "                #K -= 1\n",
    "            A[i], A[min_id] = A[min_id], A[i]\n",
    "            K -= 1\n",
    "        if K == 0:\n",
    "            return A[i], A[min_id]\n",
    "            \n",
    "    return -1, -1\n",
    "\n",
    "a, b = selection_sort(K)\n",
    "if a == -1 or b == max(A):\n",
    "    print(-1)\n",
    "else:\n",
    "    print(a, b)"
   ]
  },
  {
   "cell_type": "code",
   "execution_count": 18,
   "id": "36acb0d1",
   "metadata": {},
   "outputs": [
    {
     "name": "stdout",
     "output_type": "stream",
     "text": [
      "5 4\n",
      "3 1 2 5 4\n",
      "-1\n"
     ]
    }
   ],
   "source": [
    "# 2 (실패)\n",
    "N, K = [int(x) for x in input().split()]\n",
    "A = [int(x) for x in input().split()]\n",
    "\n",
    "def selection_sort(K):\n",
    "    for i in range(N):\n",
    "        min_id = i\n",
    "        for j in range(i+1, N):\n",
    "            if A[min_id] > A[j]:\n",
    "                min_id = j\n",
    "                K -= 1\n",
    "            if K == 0:\n",
    "                return A[min_id], A[i]\n",
    "        A[i], A[min_id] = A[min_id], A[i]\n",
    "        \n",
    "    return -1, -1\n",
    "\n",
    "a, b = selection_sort(K)\n",
    "if a == -1:\n",
    "    print(-1)\n",
    "else:\n",
    "    print(a, b)"
   ]
  },
  {
   "cell_type": "markdown",
   "id": "5864bd85",
   "metadata": {},
   "source": [
    "## 24051. 알고리즘 수업 - 삽입 정렬 1\n",
    "* https://www.acmicpc.net/problem/24051"
   ]
  },
  {
   "cell_type": "code",
   "execution_count": 3,
   "id": "71ebff78",
   "metadata": {},
   "outputs": [
    {
     "name": "stdout",
     "output_type": "stream",
     "text": [
      "5 5\n",
      "4 5 1 3 2\n",
      "[4, 5, 1, 3, 2]\n",
      "[4, 1, 5, 3, 2]\n",
      "[1, 4, 5, 3, 2]\n",
      "[1, 4, 3, 5, 2]\n",
      "[1, 3, 4, 5, 2]\n",
      "[1, 3, 4, 2, 5]\n",
      "[1, 3, 2, 4, 5]\n",
      "[1, 2, 3, 4, 5]\n"
     ]
    }
   ],
   "source": [
    "# 1\n",
    "N, K = [int(x) for x in input().split()]\n",
    "A = [int(x) for x in input().split()]\n",
    "\n",
    "def insertion_sort():\n",
    "    for i in range(N):\n",
    "        for j in range(i, 0, -1):\n",
    "            if A[j-1] > A[j]:\n",
    "                print(A)\n",
    "                A[j], A[j-1] = A[j-1], A[j]\n",
    "            else:\n",
    "                break\n",
    "                \n",
    "    return A\n",
    "            \n",
    "print(insertion_sort())"
   ]
  },
  {
   "cell_type": "markdown",
   "id": "6cfeabba",
   "metadata": {},
   "source": [
    "## 24090. 알고리즘 수업 - 퀵 정렬 1\n",
    "* https://www.acmicpc.net/problem/24090"
   ]
  },
  {
   "cell_type": "code",
   "execution_count": 10,
   "id": "d5be9276",
   "metadata": {},
   "outputs": [
    {
     "name": "stdout",
     "output_type": "stream",
     "text": [
      "5 2\n",
      "2 5 1 4 3\n",
      "1 5\n"
     ]
    }
   ],
   "source": [
    "#1 (성공)\n",
    "#import sys\n",
    "#sys.setrecursionlimit(10**5)\n",
    "\n",
    "N, K = [int(x) for x in input().split()]\n",
    "#N, K = [int(x) for x in sys.stdin.readline().split()]\n",
    "A = [int(x) for x in input().split()]\n",
    "#A = [int(x) for x in sys.stdin.readline().split()]\n",
    "result = []\n",
    "count = 0\n",
    "\n",
    "def split(A, start, end):\n",
    "    global count\n",
    "    x = A[end]\n",
    "    i = start - 1\n",
    "    for j in range(start, end):\n",
    "        if A[j] <= x:\n",
    "            i += 1\n",
    "            A[i], A[j] = A[j], A[i]\n",
    "            count += 1\n",
    "            if count == K:\n",
    "                result.append([A[i], A[j]])\n",
    "    if (i+1) != end:\n",
    "        A[i+1], A[end] = A[end], A[i+1]\n",
    "        count += 1\n",
    "        if count == K:\n",
    "            result.append([A[i+1], A[end]])\n",
    "    return i+1\n",
    "\n",
    "def quick_sort(A, start, end):\n",
    "    if start < end:\n",
    "        q = split(A, start, end)\n",
    "        quick_sort(A, start, q-1)\n",
    "        quick_sort(A, q+1, end)\n",
    "        \n",
    "quick_sort(A, 0, N-1)\n",
    "if len(result) == 1:\n",
    "    print(result[0][0], result[0][1])\n",
    "else:\n",
    "    print(-1)"
   ]
  },
  {
   "cell_type": "markdown",
   "id": "42e66a33",
   "metadata": {},
   "source": [
    "## 24173. 알고리즘 수업 - 힙 정렬 1\n",
    "* https://www.acmicpc.net/problem/24173"
   ]
  },
  {
   "cell_type": "code",
   "execution_count": 25,
   "id": "166f0a33",
   "metadata": {},
   "outputs": [
    {
     "name": "stdout",
     "output_type": "stream",
     "text": [
      "5 2\n",
      "2 5 1 4 3\n",
      "[0, 5, 4, 3, 2, 1]\n",
      "1 2\n"
     ]
    }
   ],
   "source": [
    "#1 (실패)\n",
    "#import sys\n",
    "#sys.setrecursionlimit(10**5)\n",
    "\n",
    "n, KK = [int(x) for x in input().split()]\n",
    "#n, K = [int(x) for x in sys.stdin.readline().split()]\n",
    "A = [int(x) for x in input().split()]\n",
    "#A = [int(x) for x in sys.stdin.readline().split()]\n",
    "A.insert(0, 0)\n",
    "\n",
    "result = []\n",
    "count = 0\n",
    "\n",
    "def heapify(A, k, n):\n",
    "    global count\n",
    "    left = 2*k\n",
    "    right = 2*k+1\n",
    "    if right <= n:\n",
    "        if A[left] < A[right]:\n",
    "            smaller = left\n",
    "        else:\n",
    "            smaller = right\n",
    "    elif left <= n:\n",
    "        smaller = left\n",
    "    else:\n",
    "        return\n",
    "    \n",
    "    if A[smaller] < A[k]:\n",
    "        A[k], A[smaller] = A[smaller], A[k]\n",
    "        count += 1\n",
    "        if count == KK:\n",
    "            result.append([A[k], A[smaller]])\n",
    "        heapify(A, smaller, n)\n",
    "\n",
    "def build_min_heap(A, n):\n",
    "    for i in range(n//2, 0, -1):\n",
    "        heapify(A, i, n)\n",
    "\n",
    "def heap_sort(A):\n",
    "    build_min_heap(A, n)\n",
    "    for i in range(n, 1, -1):\n",
    "        A[1], A[i] = A[i], A[1]\n",
    "        heapify(A, 1, i-1)\n",
    "\n",
    "heap_sort(A)\n",
    "#print(A)\n",
    "if len(result) == 1:\n",
    "    print(result[0][0], result[0][1])\n",
    "else:\n",
    "    print(-1)"
   ]
  },
  {
   "cell_type": "markdown",
   "id": "047146bd",
   "metadata": {},
   "source": [
    "## 24174. 알고리즘 수업 - 힙 정렬 2\n",
    "* https://www.acmicpc.net/problem/24174"
   ]
  },
  {
   "cell_type": "code",
   "execution_count": 9,
   "id": "4479bbb5",
   "metadata": {},
   "outputs": [
    {
     "name": "stdout",
     "output_type": "stream",
     "text": [
      "5 10\n",
      "2 5 1 4 3\n",
      "-1\n"
     ]
    }
   ],
   "source": [
    "#1 (실패)\n",
    "#import sys\n",
    "#sys.setrecursionlimit(10**5)\n",
    "\n",
    "n, KK = [int(x) for x in input().split()]\n",
    "#n, KK = [int(x) for x in sys.stdin.readline().split()]\n",
    "A = [int(x) for x in input().split()]\n",
    "#A = [int(x) for x in sys.stdin.readline().split()]\n",
    "A.insert(0, 0)\n",
    "\n",
    "result = []\n",
    "count = 0\n",
    "\n",
    "def heapify(A, k, n):\n",
    "    global count\n",
    "    left = 2*k\n",
    "    right = 2*k+1\n",
    "    if right <= n:\n",
    "        if A[left] < A[right]:\n",
    "            smaller = left\n",
    "        else:\n",
    "            smaller = right\n",
    "    elif left <= n:\n",
    "        smaller = left\n",
    "    else:\n",
    "        return\n",
    "    \n",
    "    if A[smaller] < A[k]:\n",
    "        A[k], A[smaller] = A[smaller], A[k]\n",
    "        count += 1\n",
    "        if count == KK:\n",
    "            result.append(A[1:])\n",
    "        heapify(A, smaller, n)\n",
    "\n",
    "def build_min_heap(A, n):\n",
    "    for i in range(n//2, 0, -1):\n",
    "        heapify(A, i, n)\n",
    "\n",
    "def heap_sort(A):\n",
    "    build_min_heap(A, n)\n",
    "    for i in range(n, 1, -1):\n",
    "        A[1], A[i] = A[i], A[1]\n",
    "        heapify(A, 1, i-1)\n",
    "\n",
    "heap_sort(A)\n",
    "if len(result) == 1:\n",
    "    for x in result[0]:\n",
    "        print(x, end=' ')\n",
    "else:\n",
    "    print(-1)"
   ]
  },
  {
   "cell_type": "markdown",
   "id": "6a0d0229",
   "metadata": {},
   "source": [
    "## 1927. 최소 힙\n",
    "* https://www.acmicpc.net/problem/1927"
   ]
  },
  {
   "cell_type": "code",
   "execution_count": 12,
   "id": "e8dc175b",
   "metadata": {},
   "outputs": [
    {
     "name": "stdout",
     "output_type": "stream",
     "text": [
      "9\n",
      "0\n",
      "\t 0\n",
      "1234\n",
      "1\n",
      "2\n",
      "0\n",
      "\t 1\n",
      "0\n",
      "\t 1234\n",
      "0\n",
      "\t 2\n",
      "0\n",
      "\t 0\n",
      "32\n"
     ]
    }
   ],
   "source": [
    "# 최소 힙 성질: 부모 노드가 자식 노드보다 작거나 같다.\n",
    "\n",
    "N = int(input())\n",
    "A = []\n",
    "\n",
    "def heapify_down(A, k, n): # A[k]가 내려가면서 힙 성질을 만족하는 위치로 이동\n",
    "    # k: 확인할 인덱스, n: 전체 노드 수\n",
    "    while 2*k+1 < n: # 왼자식 노드가 있는지 확인\n",
    "        L, R = 2*k+1, 2*k+2 # 좌우 인덱스\n",
    "        if L < n and A[L] < A[k]: # m = argmax_id(A[k], A[L], A[R])\n",
    "            m = L # 좌하단 이동\n",
    "        else:\n",
    "            m = k # 그대로\n",
    "        if R < n and A[R] < A[m]:\n",
    "            m = R # 우하단 이동\n",
    "        \n",
    "        if m != k:\n",
    "            A[k], A[m] = A[m], A[k] # 이동된 위치에서 교환\n",
    "            k = m\n",
    "        else: # m==k, 이동이 끝난 경우\n",
    "            break\n",
    "\n",
    "def make_heap(A): # 마지막 노드부터 전부 힙 성질을 만족하는지 확인\n",
    "    n = len(A)\n",
    "    for k in range(n-1, -1, -1):\n",
    "        heapify_down(A, k, n)\n",
    "        \n",
    "def heap_sort(A): # 루트에 가장 작은 값. 끝 값과 바꿔가며 힙 성질 만족하는지 확인\n",
    "    n = len(A)\n",
    "    make_heap(A)\n",
    "    for k in range(n-1, -1, -1):\n",
    "        A[0], A[k] = A[k], A[0]\n",
    "        n -= 1\n",
    "        heapify_down(A, 0, n)\n",
    "\n",
    "# 문제 특성상 마지막 값(최소값)을 pop하기 위해 최대 힙을 사용\n",
    "for _ in range(N):\n",
    "    t = int(input())\n",
    "    if t == 0:\n",
    "        if len(A) == 0:\n",
    "            print(\"\\t\", 0)\n",
    "        else:\n",
    "            print(\"\\t\", A.pop())\n",
    "            heap_sort(A)\n",
    "    else:\n",
    "        A.append(t)\n",
    "        heap_sort(A)\n"
   ]
  },
  {
   "cell_type": "markdown",
   "id": "d2d01f62",
   "metadata": {},
   "source": [
    "## 11279. 최대 힙\n",
    "* https://www.acmicpc.net/problem/11279"
   ]
  },
  {
   "cell_type": "code",
   "execution_count": 8,
   "id": "04b09f28",
   "metadata": {},
   "outputs": [
    {
     "name": "stdout",
     "output_type": "stream",
     "text": [
      "13\n",
      "0\n",
      "0\n",
      "1\n",
      "2\n",
      "0\n",
      "2\n",
      "0\n",
      "1\n",
      "3\n",
      "2\n",
      "1\n",
      "0\n",
      "3\n",
      "0\n",
      "2\n",
      "0\n",
      "1\n",
      "0\n",
      "0\n",
      "0\n",
      "0\n"
     ]
    }
   ],
   "source": [
    "# 최대 힙 성질: 부모 노드가 자식 노드보다 크거나 같다.\n",
    "\n",
    "N = int(input())\n",
    "A = []\n",
    "\n",
    "def heapify_down(A, k, n): # A[k]가 내려가면서 힙 성질을 만족하는 위치로 이동\n",
    "    # k: 확인할 인덱스, n: 전체 노드 수\n",
    "    while 2*k+1 < n: # 왼자식 노드가 있는지 확인\n",
    "        L, R = 2*k+1, 2*k+2 # 좌우 인덱스\n",
    "        if L < n and A[L] > A[k]: # m = argmax_id(A[k], A[L], A[R])\n",
    "            m = L # 좌하단 이동\n",
    "        else:\n",
    "            m = k # 그대로\n",
    "        if R < n and A[R] > A[m]:\n",
    "            m = R # 우하단 이동\n",
    "        \n",
    "        if m != k:\n",
    "            A[k], A[m] = A[m], A[k] # 이동된 위치에서 교환\n",
    "            k = m\n",
    "        else: # m==k, 이동이 끝난 경우\n",
    "            break\n",
    "\n",
    "def make_heap(A): # 마지막 노드부터 전부 힙 성질을 만족하는지 확인\n",
    "    n = len(A)\n",
    "    for k in range(n-1, -1, -1):\n",
    "        heapify_down(A, k, n)\n",
    "        \n",
    "def heap_sort(A): # 루트에 가장 작은 값. 끝 값과 바꿔가며 힙 성질 만족하는지 확인\n",
    "    n = len(A)\n",
    "    make_heap(A)\n",
    "    for k in range(n-1, -1, -1):\n",
    "        A[0], A[k] = A[k], A[0]\n",
    "        n -= 1\n",
    "        heapify_down(A, 0, n)\n",
    "\n",
    "# 문제 특성상 마지막 값(최대값)을 pop하기 위해 최소 힙을 사용\n",
    "for _ in range(N):\n",
    "    t = int(input())\n",
    "    if t == 0:\n",
    "        if len(A) == 0:\n",
    "            print(0)\n",
    "        else:\n",
    "            print(A.pop())\n",
    "            heap_sort(A)\n",
    "    else:\n",
    "        A.append(t)\n",
    "        heap_sort(A)\n"
   ]
  },
  {
   "cell_type": "code",
   "execution_count": null,
   "id": "93307068",
   "metadata": {},
   "outputs": [],
   "source": []
  },
  {
   "cell_type": "code",
   "execution_count": null,
   "id": "bfb11318",
   "metadata": {},
   "outputs": [],
   "source": []
  }
 ],
 "metadata": {
  "kernelspec": {
   "display_name": "Python 3 (ipykernel)",
   "language": "python",
   "name": "python3"
  },
  "language_info": {
   "codemirror_mode": {
    "name": "ipython",
    "version": 3
   },
   "file_extension": ".py",
   "mimetype": "text/x-python",
   "name": "python",
   "nbconvert_exporter": "python",
   "pygments_lexer": "ipython3",
   "version": "3.8.8"
  }
 },
 "nbformat": 4,
 "nbformat_minor": 5
}
