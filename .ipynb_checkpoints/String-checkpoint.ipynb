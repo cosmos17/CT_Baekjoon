{
 "cells": [
  {
   "cell_type": "markdown",
   "id": "f08887d1",
   "metadata": {},
   "source": [
    "## 숫자의 합\n",
    "* https://www.acmicpc.net/problem/11720"
   ]
  },
  {
   "cell_type": "code",
   "execution_count": 5,
   "id": "1bc80133",
   "metadata": {},
   "outputs": [],
   "source": [
    "# 1 (성공)\n",
    "def f11720(N, S):\n",
    "    s = 0\n",
    "    for x in S:\n",
    "        s += int(x)\n",
    "    return s"
   ]
  },
  {
   "cell_type": "code",
   "execution_count": 4,
   "id": "cbd1aba5",
   "metadata": {},
   "outputs": [
    {
     "name": "stdout",
     "output_type": "stream",
     "text": [
      "5\n",
      "70001\n",
      "8\n"
     ]
    }
   ],
   "source": [
    "N = int(input())\n",
    "S = input()\n",
    "print(f11720(N, S))"
   ]
  },
  {
   "cell_type": "markdown",
   "id": "b843606c",
   "metadata": {},
   "source": [
    "## 단어 정렬\n",
    "* https://www.acmicpc.net/problem/1181"
   ]
  },
  {
   "cell_type": "code",
   "execution_count": 38,
   "id": "3313d514",
   "metadata": {},
   "outputs": [],
   "source": [
    "# 1 길이순 정렬 후 사전순 버블정렬을 해도 결국 원상복귀됨 (실패)\n",
    "def f1181_1(N, S):\n",
    "    S.sort()\n",
    "    #print(\"sort\", S)\n",
    "    for i in range(N):\n",
    "        for j in range(N):\n",
    "            print(S[i], S[j])\n",
    "            if S[i] < S[j]:\n",
    "                S[i], S[j] = S[j], S[i]\n",
    "                #print(\"\\t\", S[i], S[j])"
   ]
  },
  {
   "cell_type": "code",
   "execution_count": 83,
   "id": "32a9cf34",
   "metadata": {},
   "outputs": [],
   "source": [
    "# 2 (성공)\n",
    "def f1181_2(N, S):\n",
    "    S.sort() # 미리 사전순 정렬\n",
    "    dicS = {}\n",
    "    for x in S:\n",
    "        dicS[x] = len(x)\n",
    "        \n",
    "    sorted_dicS = sorted(dicS.items(), key=lambda item: item[1]) # 길이순 정렬\n",
    "\n",
    "    for s in sorted_dicS:\n",
    "        print(s[0])\n",
    "    "
   ]
  },
  {
   "cell_type": "code",
   "execution_count": 82,
   "id": "c852a60a",
   "metadata": {},
   "outputs": [
    {
     "name": "stdout",
     "output_type": "stream",
     "text": [
      "1\n",
      "a\n",
      "a\n"
     ]
    }
   ],
   "source": [
    "N = int(input())\n",
    "S = []\n",
    "for _ in range(N):\n",
    "    S.append(input())\n",
    "\n",
    "f1181_2(N, S)"
   ]
  },
  {
   "cell_type": "markdown",
   "id": "031313ef",
   "metadata": {},
   "source": [
    "## 단어 뒤집기\n",
    "* https://www.acmicpc.net/problem/9093"
   ]
  },
  {
   "cell_type": "code",
   "execution_count": 8,
   "id": "6ae142f7",
   "metadata": {},
   "outputs": [
    {
     "name": "stdout",
     "output_type": "stream",
     "text": [
      "1\n",
      "i am happy today\n",
      "i ma yppah yadot\n"
     ]
    }
   ],
   "source": [
    "# 1 (성공)\n",
    "import sys\n",
    "\n",
    "def f9093(A):\n",
    "    words = A.split()\n",
    "    newA = ''\n",
    "    for i in range(len(words)):\n",
    "        newA += words[i][::-1]\n",
    "        if i < len(words) - 1:\n",
    "            newA += ' '\n",
    "    \n",
    "    return newA\n",
    "\n",
    "#T = int(sys.stdin.readline())\n",
    "T = int(input())\n",
    "for _ in range(T):\n",
    "    #A = sys.stdin.readline()\n",
    "    A = input()\n",
    "    print(f9093(A))"
   ]
  },
  {
   "cell_type": "code",
   "execution_count": null,
   "id": "def35886",
   "metadata": {},
   "outputs": [],
   "source": []
  }
 ],
 "metadata": {
  "kernelspec": {
   "display_name": "Python 3 (ipykernel)",
   "language": "python",
   "name": "python3"
  },
  "language_info": {
   "codemirror_mode": {
    "name": "ipython",
    "version": 3
   },
   "file_extension": ".py",
   "mimetype": "text/x-python",
   "name": "python",
   "nbconvert_exporter": "python",
   "pygments_lexer": "ipython3",
   "version": "3.8.8"
  }
 },
 "nbformat": 4,
 "nbformat_minor": 5
}
