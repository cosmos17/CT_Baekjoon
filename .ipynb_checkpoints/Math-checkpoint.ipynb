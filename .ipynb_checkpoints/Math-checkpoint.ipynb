{
 "cells": [
  {
   "cell_type": "markdown",
   "id": "651b074c",
   "metadata": {},
   "source": [
    "## 1002. 터렛\n",
    "* https://www.acmicpc.net/problem/1002"
   ]
  },
  {
   "cell_type": "code",
   "execution_count": 4,
   "id": "4ac5bf91",
   "metadata": {},
   "outputs": [
    {
     "name": "stdout",
     "output_type": "stream",
     "text": [
      "3\n",
      "0 0 13 40 0 37\n",
      "2\n",
      "0 0 3 0 7 4\n",
      "1\n",
      "1 1 1 1 1 5\n",
      "0\n"
     ]
    }
   ],
   "source": [
    "# 1 실패\n",
    "def turret(x1, y1, r1, x2, y2, r2):\n",
    "    dist = ( (x1-x2)**2 + (y1-y2)**2 )**0.5\n",
    "    \n",
    "    if dist == 0:\n",
    "        if r1 == r2: # 중첩원\n",
    "            return -1\n",
    "        else: # 동심원\n",
    "            return 0\n",
    "        \n",
    "    elif dist == r1 + r2: # 교점 1개\n",
    "        return 1\n",
    "    \n",
    "    elif dist < r1 + r2: # 교점 2개\n",
    "        return 2\n",
    "    \n",
    "    else:\n",
    "        return 0\n",
    "\n",
    "T = int(input())\n",
    "for _ in range(T):\n",
    "    x1, y1, r1, x2, y2, r2 = [int(x) for x in input().split()]\n",
    "    print(turret(x1, y1, r1, x2, y2, r2))"
   ]
  },
  {
   "cell_type": "code",
   "execution_count": null,
   "id": "ac804f20",
   "metadata": {},
   "outputs": [],
   "source": []
  }
 ],
 "metadata": {
  "kernelspec": {
   "display_name": "Python 3 (ipykernel)",
   "language": "python",
   "name": "python3"
  },
  "language_info": {
   "codemirror_mode": {
    "name": "ipython",
    "version": 3
   },
   "file_extension": ".py",
   "mimetype": "text/x-python",
   "name": "python",
   "nbconvert_exporter": "python",
   "pygments_lexer": "ipython3",
   "version": "3.8.8"
  }
 },
 "nbformat": 4,
 "nbformat_minor": 5
}
