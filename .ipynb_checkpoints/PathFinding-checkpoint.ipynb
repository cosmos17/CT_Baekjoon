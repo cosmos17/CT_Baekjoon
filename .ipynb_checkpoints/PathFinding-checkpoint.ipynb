{
 "cells": [
  {
   "cell_type": "markdown",
   "id": "dad58c2d",
   "metadata": {},
   "source": [
    "## 1446. 지름길\n",
    "* https://www.acmicpc.net/problem/1446"
   ]
  },
  {
   "cell_type": "code",
   "execution_count": 7,
   "id": "6f9e6fb8",
   "metadata": {},
   "outputs": [
    {
     "name": "stdout",
     "output_type": "stream",
     "text": [
      "2 100\n",
      "10 60 40\n",
      "50 90 20\n"
     ]
    },
    {
     "ename": "TypeError",
     "evalue": "'int' object is not subscriptable",
     "output_type": "error",
     "traceback": [
      "\u001b[1;31m---------------------------------------------------------------------------\u001b[0m",
      "\u001b[1;31mTypeError\u001b[0m                                 Traceback (most recent call last)",
      "Cell \u001b[1;32mIn[7], line 35\u001b[0m\n\u001b[0;32m     32\u001b[0m             \u001b[38;5;28;01mif\u001b[39;00m cost \u001b[38;5;241m<\u001b[39m dist[j[\u001b[38;5;241m0\u001b[39m]]:\n\u001b[0;32m     33\u001b[0m                 dist[j[\u001b[38;5;241m0\u001b[39m]] \u001b[38;5;241m=\u001b[39m cost\n\u001b[1;32m---> 35\u001b[0m \u001b[43mdijkstra\u001b[49m\u001b[43m(\u001b[49m\u001b[43mstart\u001b[49m\u001b[43m)\u001b[49m\n\u001b[0;32m     36\u001b[0m \u001b[38;5;28mprint\u001b[39m(\u001b[38;5;28mmin\u001b[39m(dist))\n",
      "Cell \u001b[1;32mIn[7], line 26\u001b[0m, in \u001b[0;36mdijkstra\u001b[1;34m(start)\u001b[0m\n\u001b[0;32m     24\u001b[0m visited[start] \u001b[38;5;241m=\u001b[39m \u001b[38;5;28;01mTrue\u001b[39;00m\n\u001b[0;32m     25\u001b[0m \u001b[38;5;28;01mfor\u001b[39;00m j \u001b[38;5;129;01min\u001b[39;00m G[start]:\n\u001b[1;32m---> 26\u001b[0m     dist[j[\u001b[38;5;241m0\u001b[39m]] \u001b[38;5;241m=\u001b[39m \u001b[43mj\u001b[49m\u001b[43m[\u001b[49m\u001b[38;5;241;43m1\u001b[39;49m\u001b[43m]\u001b[49m\n\u001b[0;32m     27\u001b[0m \u001b[38;5;28;01mfor\u001b[39;00m i \u001b[38;5;129;01min\u001b[39;00m \u001b[38;5;28mrange\u001b[39m(D\u001b[38;5;241m-\u001b[39m\u001b[38;5;241m1\u001b[39m):\n\u001b[0;32m     28\u001b[0m     now \u001b[38;5;241m=\u001b[39m unvisited_smallest()\n",
      "\u001b[1;31mTypeError\u001b[0m: 'int' object is not subscriptable"
     ]
    }
   ],
   "source": [
    "N, D = [int(x) for x in input().split()] # 지름길 개수, 고속도로 길이\n",
    "G = [[] for _ in range(D+1)]\n",
    "start = D\n",
    "for i in range(N):\n",
    "    s, e, c = [int(x) for x in input().split()]\n",
    "    G[s] = [e, c]\n",
    "    if s < start:\n",
    "        start = s\n",
    "    \n",
    "visited = [False] * (D+1)\n",
    "dist = [10_000] * (D+1)\n",
    "\n",
    "def unvisited_smallest():\n",
    "    min_val = 10_000\n",
    "    index = 0\n",
    "    for i in range(1, D+1):\n",
    "        if dist[i] < min_val and not visited[i]:\n",
    "            min_val = dist[i]\n",
    "            index = 1\n",
    "    return index\n",
    "\n",
    "def dijkstra(start):\n",
    "    dist[start] = 0\n",
    "    visited[start] = True\n",
    "    for j in G[start]:\n",
    "        dist[j[0]] = j[1]\n",
    "    for i in range(D-1):\n",
    "        now = unvisited_smallest()\n",
    "        visited[now] = True\n",
    "        for j in G[now]:\n",
    "            cost = dist[now] + j[1]\n",
    "            if cost < dist[j[0]]:\n",
    "                dist[j[0]] = cost\n",
    "                \n",
    "dijkstra(start)\n",
    "print(min(dist))"
   ]
  },
  {
   "cell_type": "markdown",
   "id": "d95c41bf",
   "metadata": {},
   "source": [
    "## 18352. 특정 거리의 도시 찾기\n",
    "* https://www.acmicpc.net/problem/18352"
   ]
  },
  {
   "cell_type": "code",
   "execution_count": 4,
   "id": "494e5cd9",
   "metadata": {
    "scrolled": true
   },
   "outputs": [
    {
     "name": "stdout",
     "output_type": "stream",
     "text": [
      "4 4 2 1\n",
      "1 2\n",
      "1 3\n",
      "2 3\n",
      "2 4\n",
      "[[], [[2, 1], [3, 1]], [[3, 1], [4, 1]], [], []]\n",
      "\t [1000000000, 0, 1, 1000000000, 1000000000]\n",
      "\t [1000000000, 0, 1, 1, 1000000000]\n",
      "\t [1000000000, 0, 0, 1, 1000000000]\n",
      "\t [1000000000, 0, 0, 1, 1]\n",
      "[1000000000, 0, 0, 0, 0]\n"
     ]
    }
   ],
   "source": [
    "INF = int(1e9)\n",
    "\n",
    "N, M, K, X = [int(x) for x in input().split()] # 도시 개수, 도로 개수, 거리 정보, 출발 도시 번호\n",
    "G = [[] for _ in range(N+1)]\n",
    "for i in range(N):\n",
    "    s, e = [int(x) for x in input().split()]\n",
    "    G[s].append([e, 1])\n",
    "\n",
    "visited = [False] * (N+1)\n",
    "dist = [INF] * (N+1)\n",
    "\n",
    "def unvisited_smallest():\n",
    "    min_val = INF\n",
    "    index = 0\n",
    "    for i in range(1, N+1):\n",
    "        if dist[i] < min_val and not visited[i]:\n",
    "            min_val = dist[i]\n",
    "            index = 1\n",
    "    return index\n",
    "\n",
    "def dijkstra(start):\n",
    "    if visited[start] == False:\n",
    "        dist[start] = 0\n",
    "        visited[start] = True\n",
    "    for j in G[start]:\n",
    "        dist[j[0]] = j[1]\n",
    "        print(\"\\t\", dist)\n",
    "    for _ in range(N-1):\n",
    "        now = unvisited_smallest()\n",
    "        visited[now] = True\n",
    "        for j in G[now]:\n",
    "            cost = dist[now] + j[1]\n",
    "            if cost < dist[j[0]]:\n",
    "                dist[j[0]] = cost\n",
    "                \n",
    "print(G)\n",
    "for i in range(1, N+1):\n",
    "    dijkstra(i)\n",
    "print(dist)"
   ]
  },
  {
   "cell_type": "code",
   "execution_count": 13,
   "id": "a5935c17",
   "metadata": {},
   "outputs": [
    {
     "data": {
      "text/plain": [
       "[3, 1]"
      ]
     },
     "execution_count": 13,
     "metadata": {},
     "output_type": "execute_result"
    }
   ],
   "source": [
    "G[X]"
   ]
  },
  {
   "cell_type": "markdown",
   "id": "b070a66e",
   "metadata": {},
   "source": [
    "## 14938. 서강그라운드\n",
    "* https://www.acmicpc.net/problem/14938"
   ]
  },
  {
   "cell_type": "code",
   "execution_count": null,
   "id": "d91198e0",
   "metadata": {},
   "outputs": [],
   "source": [
    "import heapq\n",
    "\n",
    "INF = int(1e9)\n",
    "\n",
    "N, SR, M = [int(x) for x in input().split()] # 지역 수, 수색범위, 길 갯수\n",
    "dist = [INF] * (N+1)\n",
    "G = [[] for i in range(N+1)]\n",
    "items = [int(x) for x in input().split()] # 지역 별 아이템 수\n",
    "for _ in range(M):\n",
    "    a, b, c = [int(x) for x in input().split()]\n",
    "    G[a].append((b, c))\n",
    "    G[b].append((a, c))\n",
    "\n",
    "def dijkstra(start):\n",
    "    q = []\n",
    "    heapq.heappush(q, (0, start))\n",
    "    dist[start] = 0\n",
    "    while q:\n",
    "        d, now = heapq.heappop(q)\n",
    "        if dist[now] < d:\n",
    "            continue\n",
    "        for i in G[now]:\n",
    "            cost = d + i[1]\n",
    "            if cost < dist[i[0]]:\n",
    "                dist[i[0]] = cost\n",
    "                heapq.heappush(q, (cost, i[0]))\n",
    "                \n",
    "getItems = [0] * N\n",
    "for i in range(N):\n",
    "    dijkstra(i+1)\n",
    "    dist.pop(0)\n",
    "\n",
    "    s = 0\n",
    "    for j in range(N):\n",
    "        if dist[j] < SR:\n",
    "            s += items[j]\n",
    "    getItems[i] = s\n",
    "\n",
    "    dist = [INF] * (N+1)\n",
    "\n",
    "print(max(getItems))"
   ]
  },
  {
   "cell_type": "markdown",
   "id": "837cca37",
   "metadata": {},
   "source": [
    "## 5972. 택배 배송\n",
    "* https://www.acmicpc.net/problem/5972"
   ]
  },
  {
   "cell_type": "code",
   "execution_count": 2,
   "id": "599f86c9",
   "metadata": {},
   "outputs": [
    {
     "name": "stdout",
     "output_type": "stream",
     "text": [
      "6 8\n",
      "4 5 3\n",
      "2 4 0\n",
      "4 1 4\n",
      "2 1 1\n",
      "5 6 1\n",
      "3 6 2\n",
      "3 2 6\n",
      "3 4 4\n",
      "[1000000000, 0, 1, 5, 1, 4, 5]\n"
     ]
    }
   ],
   "source": [
    "import heapq\n",
    "\n",
    "INF = int(1e9)\n",
    "\n",
    "N, M = [int(x) for x in input().split()]\n",
    "dist = [INF] * (N+1)\n",
    "G = [[] for i in range(N+1)]\n",
    "for _ in range(M):\n",
    "    a, b, c = [int(x) for x in input().split()]\n",
    "    G[a].append((b, c))\n",
    "    G[b].append((a, c))\n",
    "\n",
    "def dijkstra(start):\n",
    "    q = []\n",
    "    heapq.heappush(q, (0, start))\n",
    "    dist[start] = 0\n",
    "    while q:\n",
    "        d, now = heapq.heappop(q)\n",
    "        if dist[now] < d:\n",
    "            continue\n",
    "        for i in G[now]:\n",
    "            cost = d + i[1]\n",
    "            if cost < dist[i[0]]:\n",
    "                dist[i[0]] = cost\n",
    "                heapq.heappush(q, (cost, i[0]))\n",
    "                \n",
    "dijkstra(1)\n",
    "while max(dist) == INF:\n",
    "    dist.remove(max(dist))\n",
    "\n",
    "print(max(dist))"
   ]
  },
  {
   "cell_type": "markdown",
   "id": "fa575bd8",
   "metadata": {},
   "source": [
    "## 1800. 인터넷 설치\n",
    "* https://www.acmicpc.net/problem/1800"
   ]
  },
  {
   "cell_type": "code",
   "execution_count": 1,
   "id": "826a766b",
   "metadata": {},
   "outputs": [
    {
     "ename": "KeyboardInterrupt",
     "evalue": "Interrupted by user",
     "output_type": "error",
     "traceback": [
      "\u001b[1;31m---------------------------------------------------------------------------\u001b[0m",
      "\u001b[1;31mKeyboardInterrupt\u001b[0m                         Traceback (most recent call last)",
      "Cell \u001b[1;32mIn[1], line 4\u001b[0m\n\u001b[0;32m      1\u001b[0m \u001b[38;5;28;01mimport\u001b[39;00m \u001b[38;5;21;01mheapq\u001b[39;00m\n\u001b[0;32m      3\u001b[0m INF \u001b[38;5;241m=\u001b[39m \u001b[38;5;28mint\u001b[39m(\u001b[38;5;241m1e9\u001b[39m)\n\u001b[1;32m----> 4\u001b[0m N, M \u001b[38;5;241m=\u001b[39m [\u001b[38;5;28mint\u001b[39m(x) \u001b[38;5;28;01mfor\u001b[39;00m x \u001b[38;5;129;01min\u001b[39;00m \u001b[38;5;28;43minput\u001b[39;49m\u001b[43m(\u001b[49m\u001b[43m)\u001b[49m\u001b[38;5;241m.\u001b[39msplit()]\n\u001b[0;32m      5\u001b[0m dist \u001b[38;5;241m=\u001b[39m [INF] \u001b[38;5;241m*\u001b[39m (N\u001b[38;5;241m+\u001b[39m\u001b[38;5;241m1\u001b[39m)\n\u001b[0;32m      6\u001b[0m G \u001b[38;5;241m=\u001b[39m [[] \u001b[38;5;28;01mfor\u001b[39;00m _ \u001b[38;5;129;01min\u001b[39;00m \u001b[38;5;28mrange\u001b[39m(N)]\n",
      "File \u001b[1;32mC:\\ProgramData\\Anaconda3\\lib\\site-packages\\ipykernel\\kernelbase.py:1175\u001b[0m, in \u001b[0;36mKernel.raw_input\u001b[1;34m(self, prompt)\u001b[0m\n\u001b[0;32m   1171\u001b[0m \u001b[38;5;28;01mif\u001b[39;00m \u001b[38;5;129;01mnot\u001b[39;00m \u001b[38;5;28mself\u001b[39m\u001b[38;5;241m.\u001b[39m_allow_stdin:\n\u001b[0;32m   1172\u001b[0m     \u001b[38;5;28;01mraise\u001b[39;00m StdinNotImplementedError(\n\u001b[0;32m   1173\u001b[0m         \u001b[38;5;124m\"\u001b[39m\u001b[38;5;124mraw_input was called, but this frontend does not support input requests.\u001b[39m\u001b[38;5;124m\"\u001b[39m\n\u001b[0;32m   1174\u001b[0m     )\n\u001b[1;32m-> 1175\u001b[0m \u001b[38;5;28;01mreturn\u001b[39;00m \u001b[38;5;28;43mself\u001b[39;49m\u001b[38;5;241;43m.\u001b[39;49m\u001b[43m_input_request\u001b[49m\u001b[43m(\u001b[49m\n\u001b[0;32m   1176\u001b[0m \u001b[43m    \u001b[49m\u001b[38;5;28;43mstr\u001b[39;49m\u001b[43m(\u001b[49m\u001b[43mprompt\u001b[49m\u001b[43m)\u001b[49m\u001b[43m,\u001b[49m\n\u001b[0;32m   1177\u001b[0m \u001b[43m    \u001b[49m\u001b[38;5;28;43mself\u001b[39;49m\u001b[38;5;241;43m.\u001b[39;49m\u001b[43m_parent_ident\u001b[49m\u001b[43m[\u001b[49m\u001b[38;5;124;43m\"\u001b[39;49m\u001b[38;5;124;43mshell\u001b[39;49m\u001b[38;5;124;43m\"\u001b[39;49m\u001b[43m]\u001b[49m\u001b[43m,\u001b[49m\n\u001b[0;32m   1178\u001b[0m \u001b[43m    \u001b[49m\u001b[38;5;28;43mself\u001b[39;49m\u001b[38;5;241;43m.\u001b[39;49m\u001b[43mget_parent\u001b[49m\u001b[43m(\u001b[49m\u001b[38;5;124;43m\"\u001b[39;49m\u001b[38;5;124;43mshell\u001b[39;49m\u001b[38;5;124;43m\"\u001b[39;49m\u001b[43m)\u001b[49m\u001b[43m,\u001b[49m\n\u001b[0;32m   1179\u001b[0m \u001b[43m    \u001b[49m\u001b[43mpassword\u001b[49m\u001b[38;5;241;43m=\u001b[39;49m\u001b[38;5;28;43;01mFalse\u001b[39;49;00m\u001b[43m,\u001b[49m\n\u001b[0;32m   1180\u001b[0m \u001b[43m\u001b[49m\u001b[43m)\u001b[49m\n",
      "File \u001b[1;32mC:\\ProgramData\\Anaconda3\\lib\\site-packages\\ipykernel\\kernelbase.py:1217\u001b[0m, in \u001b[0;36mKernel._input_request\u001b[1;34m(self, prompt, ident, parent, password)\u001b[0m\n\u001b[0;32m   1214\u001b[0m             \u001b[38;5;28;01mbreak\u001b[39;00m\n\u001b[0;32m   1215\u001b[0m \u001b[38;5;28;01mexcept\u001b[39;00m \u001b[38;5;167;01mKeyboardInterrupt\u001b[39;00m:\n\u001b[0;32m   1216\u001b[0m     \u001b[38;5;66;03m# re-raise KeyboardInterrupt, to truncate traceback\u001b[39;00m\n\u001b[1;32m-> 1217\u001b[0m     \u001b[38;5;28;01mraise\u001b[39;00m \u001b[38;5;167;01mKeyboardInterrupt\u001b[39;00m(\u001b[38;5;124m\"\u001b[39m\u001b[38;5;124mInterrupted by user\u001b[39m\u001b[38;5;124m\"\u001b[39m) \u001b[38;5;28;01mfrom\u001b[39;00m \u001b[38;5;28mNone\u001b[39m\n\u001b[0;32m   1218\u001b[0m \u001b[38;5;28;01mexcept\u001b[39;00m \u001b[38;5;167;01mException\u001b[39;00m:\n\u001b[0;32m   1219\u001b[0m     \u001b[38;5;28mself\u001b[39m\u001b[38;5;241m.\u001b[39mlog\u001b[38;5;241m.\u001b[39mwarning(\u001b[38;5;124m\"\u001b[39m\u001b[38;5;124mInvalid Message:\u001b[39m\u001b[38;5;124m\"\u001b[39m, exc_info\u001b[38;5;241m=\u001b[39m\u001b[38;5;28;01mTrue\u001b[39;00m)\n",
      "\u001b[1;31mKeyboardInterrupt\u001b[0m: Interrupted by user"
     ]
    }
   ],
   "source": [
    "import heapq\n",
    "\n",
    "INF = int(1e9)\n",
    "N, M, K = [int(x) for x in input().split()] # K: 공짜 케이블선 수\n",
    "dist = [INF] * (N+1)\n",
    "G = [[] for _ in range(N+1)]\n",
    "for _ in range(M):\n",
    "    a, b, c = [int(x) for x in input().split()]\n",
    "    G[a].append((b, c))\n",
    "    G[b].append((a, c))\n",
    "    \n",
    "\n",
    "for i in range(1, N+1):\n",
    "    print(i, \": \", G[i])\n",
    "    \n",
    "def dijkstra(start):\n",
    "    q = []\n",
    "    heapq.heappush(q, (0, start))\n",
    "    dist[start] = 0\n",
    "    while q:\n",
    "        min_dist, pos = heapq.heappop(q)\n",
    "        print(\"    \", min_dist, pos)\n",
    "        if dist[pos] < min_dist:\n",
    "            continue\n",
    "        for i in G[pos]:\n",
    "            print(\"\\ti:\", i)\n",
    "            cost = min_dist + i[1]\n",
    "            print(\"\\tcost:\", cost)\n",
    "            if cost < dist[i[0]]:\n",
    "                dist[i[0]] = cost\n",
    "                heapq.heappush(q, (cost, i[0]))\n",
    "                \n",
    "dijkstra(1)\n",
    "if dist[N] == INF:\n",
    "    print(-1)\n",
    "else:\n",
    "    print(dist)"
   ]
  },
  {
   "cell_type": "markdown",
   "id": "2e835655",
   "metadata": {},
   "source": [
    "## 1058. 친구\n",
    "* https://www.acmicpc.net/problem/1058"
   ]
  },
  {
   "cell_type": "code",
   "execution_count": 1,
   "id": "4bdd3734",
   "metadata": {},
   "outputs": [
    {
     "name": "stdout",
     "output_type": "stream",
     "text": [
      "abc\n"
     ]
    },
    {
     "data": {
      "text/plain": [
       "['abc']"
      ]
     },
     "execution_count": 1,
     "metadata": {},
     "output_type": "execute_result"
    }
   ],
   "source": [
    "A = input().split()\n",
    "A"
   ]
  },
  {
   "cell_type": "code",
   "execution_count": 6,
   "id": "60a28a9c",
   "metadata": {},
   "outputs": [
    {
     "name": "stdout",
     "output_type": "stream",
     "text": [
      "3\n",
      "NYY\n",
      "YNY\n",
      "YYN\n",
      "2\n"
     ]
    }
   ],
   "source": [
    "INF = int(1e9)\n",
    "\n",
    "N = int(input())\n",
    "G = [[INF] * (N) for _ in range(N)]\n",
    "for i in range(N):\n",
    "    S = input()\n",
    "    for j in range(N):\n",
    "        if S[j] == 'Y':\n",
    "            G[i][j] = 1\n",
    "        else:\n",
    "            G[i][j] = INF\n",
    "            \n",
    "for k in range(N):\n",
    "    for a in range(N):\n",
    "        for b in range(N):\n",
    "            G[a][b] = min(G[a][b], G[a][k] + G[k][b])\n",
    "    \n",
    "m = 0\n",
    "for i in range(N):\n",
    "    if max(G[i]) > m:\n",
    "        m = max(G[i])\n",
    "        \n",
    "print(m)"
   ]
  },
  {
   "cell_type": "code",
   "execution_count": null,
   "id": "9bf57043",
   "metadata": {},
   "outputs": [],
   "source": []
  }
 ],
 "metadata": {
  "kernelspec": {
   "display_name": "Python 3 (ipykernel)",
   "language": "python",
   "name": "python3"
  },
  "language_info": {
   "codemirror_mode": {
    "name": "ipython",
    "version": 3
   },
   "file_extension": ".py",
   "mimetype": "text/x-python",
   "name": "python",
   "nbconvert_exporter": "python",
   "pygments_lexer": "ipython3",
   "version": "3.8.8"
  }
 },
 "nbformat": 4,
 "nbformat_minor": 5
}
