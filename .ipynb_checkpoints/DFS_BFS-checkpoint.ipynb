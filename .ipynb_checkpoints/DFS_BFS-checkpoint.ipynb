{
 "cells": [
  {
   "cell_type": "markdown",
   "id": "19129e67",
   "metadata": {},
   "source": [
    "## 바이러스\n",
    "* https://www.acmicpc.net/problem/2606"
   ]
  },
  {
   "cell_type": "code",
   "execution_count": 1,
   "id": "6b4f4529",
   "metadata": {},
   "outputs": [],
   "source": [
    "from collections import deque\n",
    "\n",
    "#help(deque)"
   ]
  },
  {
   "cell_type": "code",
   "execution_count": 2,
   "id": "0b06634e",
   "metadata": {},
   "outputs": [
    {
     "name": "stdout",
     "output_type": "stream",
     "text": [
      "7\n",
      "6\n",
      "1 2\n",
      "2 3\n",
      "1 5\n",
      "5 2\n",
      "5 6\n",
      "4 7\n",
      "seq: [1]\n",
      "seq: [1, 2]\n",
      "seq: [1, 2, 5]\n",
      "c: 4\n",
      "4\n"
     ]
    }
   ],
   "source": [
    "from collections import deque\n",
    "\n",
    "def bfs(graph, start, visited):\n",
    "    dq = deque([start])\n",
    "    visited[start] = True\n",
    "    seq = []\n",
    "    \n",
    "    count = 0\n",
    "    while dq:\n",
    "        x = dq.popleft()\n",
    "        seq.append(x)\n",
    "        for p in graph[x]:\n",
    "            if not visited[p]:\n",
    "                dq.append(p)\n",
    "                visited[p] = True\n",
    "                count += 1\n",
    "            \n",
    "    return seq, count\n",
    "    \n",
    "Com = int(input())\n",
    "edges = int(input())\n",
    "\n",
    "G = [[] for i in range(Com + 1)]\n",
    "for _ in range(edges):\n",
    "    A = [int(x) for x in input().split()]\n",
    "    G[A[0]].append(A[1])\n",
    "    G[A[1]].append(A[0])\n",
    "    \n",
    "V = [False] * (Com + 1)\n",
    "\n",
    "#print(G)\n",
    "seq, count = bfs(G, 1, V)\n",
    "#print(seq)\n",
    "print(count)"
   ]
  },
  {
   "cell_type": "code",
   "execution_count": null,
   "id": "d3304359",
   "metadata": {},
   "outputs": [],
   "source": [
    "'''\n",
    "7\n",
    "6\n",
    "1 2\n",
    "2 3\n",
    "1 5\n",
    "5 2\n",
    "5 6\n",
    "4 7\n",
    "'''"
   ]
  },
  {
   "cell_type": "markdown",
   "id": "3e30e07c",
   "metadata": {},
   "source": [
    "## 음료수 얼려 먹기"
   ]
  },
  {
   "cell_type": "code",
   "execution_count": 8,
   "id": "f7c614e7",
   "metadata": {},
   "outputs": [
    {
     "name": "stdout",
     "output_type": "stream",
     "text": [
      "4 5\n",
      "0 0 1 1 0\n",
      "0 0 0 1 1\n",
      "1 1 1 1 1\n",
      "0 0 0 0 0\n"
     ]
    },
    {
     "ename": "IndexError",
     "evalue": "list index out of range",
     "output_type": "error",
     "traceback": [
      "\u001b[1;31m---------------------------------------------------------------------------\u001b[0m",
      "\u001b[1;31mIndexError\u001b[0m                                Traceback (most recent call last)",
      "Cell \u001b[1;32mIn[8], line 29\u001b[0m\n\u001b[0;32m     26\u001b[0m \u001b[38;5;28;01mfor\u001b[39;00m _ \u001b[38;5;129;01min\u001b[39;00m \u001b[38;5;28mrange\u001b[39m(N):\n\u001b[0;32m     27\u001b[0m     G\u001b[38;5;241m.\u001b[39mappend([\u001b[38;5;28mint\u001b[39m(x) \u001b[38;5;28;01mfor\u001b[39;00m x \u001b[38;5;129;01min\u001b[39;00m \u001b[38;5;28minput\u001b[39m()\u001b[38;5;241m.\u001b[39msplit()])\n\u001b[1;32m---> 29\u001b[0m \u001b[38;5;28mprint\u001b[39m(\u001b[43mice\u001b[49m\u001b[43m(\u001b[49m\u001b[43mG\u001b[49m\u001b[43m,\u001b[49m\u001b[43m \u001b[49m\u001b[43mN\u001b[49m\u001b[43m,\u001b[49m\u001b[43m \u001b[49m\u001b[43mM\u001b[49m\u001b[43m)\u001b[49m)\n",
      "Cell \u001b[1;32mIn[8], line 7\u001b[0m, in \u001b[0;36mice\u001b[1;34m(G, N, M)\u001b[0m\n\u001b[0;32m      5\u001b[0m \u001b[38;5;28;01mfor\u001b[39;00m i \u001b[38;5;129;01min\u001b[39;00m \u001b[38;5;28mrange\u001b[39m(N):\n\u001b[0;32m      6\u001b[0m     \u001b[38;5;28;01mfor\u001b[39;00m j \u001b[38;5;129;01min\u001b[39;00m \u001b[38;5;28mrange\u001b[39m(M):\n\u001b[1;32m----> 7\u001b[0m         \u001b[38;5;28;01mif\u001b[39;00m G[i][j] \u001b[38;5;241m==\u001b[39m \u001b[38;5;241m0\u001b[39m \u001b[38;5;129;01mand\u001b[39;00m \u001b[43mV\u001b[49m\u001b[43m[\u001b[49m\u001b[43mi\u001b[49m\u001b[43m]\u001b[49m\u001b[43m[\u001b[49m\u001b[43mj\u001b[49m\u001b[43m]\u001b[49m \u001b[38;5;241m==\u001b[39m \u001b[38;5;124m'\u001b[39m\u001b[38;5;124mN\u001b[39m\u001b[38;5;124m'\u001b[39m:\n\u001b[0;32m      8\u001b[0m             One \u001b[38;5;241m=\u001b[39m [[i, j]]\n\u001b[0;32m      9\u001b[0m             count \u001b[38;5;241m+\u001b[39m\u001b[38;5;241m=\u001b[39m \u001b[38;5;241m1\u001b[39m\n",
      "\u001b[1;31mIndexError\u001b[0m: list index out of range"
     ]
    }
   ],
   "source": [
    "def ice(G, N, M):\n",
    "    V = [['N' for m in range(N)] for n in range(M)] # 'N' : 미방문, 'V' : 방문\n",
    "    \n",
    "    count = 0\n",
    "    for i in range(N):\n",
    "        for j in range(M):\n",
    "            if G[i][j] == 0 and V[i][j] == 'N':\n",
    "                One = [[i, j]]\n",
    "                count += 1\n",
    "                while One:\n",
    "                    x, y = One.pop(0)\n",
    "                    V[x][y] = 'V'\n",
    "                    if x-1 > 0 and G[x-1][y] == 0 and V[x-1][y] == 'N':\n",
    "                        One.append([x-1, y])\n",
    "                    if y-1 > 0 and G[x][y-1] == 0 and V[x][y-1] == 'N':\n",
    "                        One.append([x-1, y])\n",
    "                    if x+1 < N and G[x+1][y] == 0 and V[x+1][y] == 'N':\n",
    "                        One.append([x+1, y])\n",
    "                    if y+1 < M and G[x][y+1] == 0 and V[x][y+1] == 'N':\n",
    "                        One.append([x, y+1])\n",
    "                        \n",
    "    return count\n",
    "\n",
    "N, M = [int(x) for x in input().split()] # N행 M열\n",
    "G = []\n",
    "for _ in range(N):\n",
    "    G.append([int(x) for x in input().split()])\n",
    "    \n",
    "print(ice(G, N, M))"
   ]
  },
  {
   "cell_type": "code",
   "execution_count": null,
   "id": "ee935a3f",
   "metadata": {},
   "outputs": [],
   "source": []
  },
  {
   "cell_type": "markdown",
   "id": "10db366a",
   "metadata": {},
   "source": [
    "## 2644. 촌수계산\n",
    "* https://www.acmicpc.net/problem/2644"
   ]
  },
  {
   "cell_type": "code",
   "execution_count": null,
   "id": "ba3d614f",
   "metadata": {},
   "outputs": [],
   "source": [
    "n = int(input()) # 전체 사람 수\n",
    "A, B = [int(x) for x in input().split()] # 촌수 계산할 대상\n",
    "m = int(input()) # 부모 자식 간 관계 수\n",
    "G = [[] for i in range(n + 1)]\n",
    "for _ in range(m):\n",
    "    t = [int(x) for x in input().split()] # 부모번호, 자식번호\n",
    "    G[t[0]].append(t[1])\n",
    "    G[t[1]].append(t[0])\n",
    "    \n",
    "    \n",
    "from collections import deque\n",
    "\n",
    "def bfs(graph, n, start):\n",
    "    dq = deque([start])\n",
    "    visited = [False] * (n + 1)\n",
    "    visited[start] = True\n",
    "    seq = []\n",
    "\n",
    "    while dq:\n",
    "        x = dq.popleft()\n",
    "        seq.append(x)\n",
    "        for p in graph[x]:\n",
    "            if not visited[p]:\n",
    "                dq.append(p)\n",
    "                visited[p] = True\n",
    "                \n",
    "    return seq\n",
    "\n",
    "order = bfs(G, n, 1)\n",
    "i = 1\n",
    "while (A not in order) and (B not in order):\n",
    "    i += 1\n",
    "    order = bfs(G, n, i)\n",
    "\n",
    "if A in order and B in order:\n",
    "    top = order[0]\n",
    "    start = order.index(A)\n",
    "    end = order.index(B)\n",
    "    \n",
    "    t_s = order[:start]\n",
    "    t_e = order[:end]\n",
    "    \n",
    "    for x in t_s[::-1]:\n",
    "        if G[start] == G[x]:\n",
    "            t_s.remove(x)\n",
    "                       \n",
    "    for x in t_e[::-1]:\n",
    "        if G[end] == G[x]:\n",
    "            t_e.remove(x)\n",
    "    \n",
    "    print(len(t_s) + len(t_e))\n",
    "    \n",
    "else:\n",
    "    print(-1)"
   ]
  },
  {
   "cell_type": "markdown",
   "id": "65b66066",
   "metadata": {},
   "source": [
    "* [[], [2, 3], [1, 7, 8, 9], [1], [5, 6], [4], [4], [2], [2], [2]]\n",
    "* [1, 2, 3, 7, 8, 9]"
   ]
  },
  {
   "cell_type": "code",
   "execution_count": null,
   "id": "fe3a954a",
   "metadata": {},
   "outputs": [],
   "source": [
    "from collections import deque\n",
    "\n",
    "n = int(input()) # 전체 사람 수\n",
    "A, B = [int(x) for x in input().split()] # 촌수 계산할 대상\n",
    "m = int(input()) # 부모 자식 간 관계 수\n",
    "G = [[] for i in range(n + 1)]\n",
    "for _ in range(m):\n",
    "    t = [int(x) for x in input().split()] # 부모번호, 자식번호\n",
    "    G[t[0]].append(t[1])\n",
    "    G[t[1]].append(t[0])\n",
    "    \n",
    "count = 0\n",
    "\n",
    "def bfs(graph, n, start, end):\n",
    "    dq = deque([start])\n",
    "    visited = [False] * (n + 1)\n",
    "    visited[start] = True\n",
    "\n",
    "    while dq:\n",
    "        x = dq.popleft()\n",
    "        for p in graph[x]:\n",
    "            if not visited[p]:\n",
    "                dq.append(p)\n",
    "                visited[p] = True\n",
    "                if p == end:\n",
    "                    return count+1\n",
    "                else:\n",
    "                    count += 1\n",
    "                \n",
    "    return count\n",
    "\n",
    "order = bfs(G, n, A, B)\n",
    "print(order)"
   ]
  },
  {
   "cell_type": "code",
   "execution_count": null,
   "id": "87cfcc8c",
   "metadata": {},
   "outputs": [],
   "source": [
    "# 코테_이찬솔\n",
    "import sys\n",
    "\n",
    "n = int(sys.stdin.readline())\n",
    "x, y = map(int, sys.stdin.readline().split())\n",
    "m = int(sys.stdin.readline())\n",
    "l = [[] for _ in range(n+1)]\n",
    "v = [0 for _ in range(n+1)]\n",
    "for i in range(m):\n",
    "    s = list(map(int,sys.stdin.readline().split()))\n",
    "    l[s[0]].append(s[1])\n",
    "    l[s[1]].append(s[0])\n",
    "    \n",
    "res = []\n",
    "def chon(start, cnt):\n",
    "    if start == y: # 도착\n",
    "        res.append(cnt)\n",
    "    v[start] = 1\n",
    "    for i in l[start]:\n",
    "        if v[i]==0:\n",
    "            chon(i, cnt+1)\n",
    "            \n",
    "chon(x, 0)\n",
    "if len(res)==0:\n",
    "    print(-1)\n",
    "else:\n",
    "    print(res[0])"
   ]
  },
  {
   "cell_type": "markdown",
   "id": "9757f9c9",
   "metadata": {},
   "source": [
    "## 1303. 전쟁 - 전투\n",
    "* https://www.acmicpc.net/problem/1303"
   ]
  },
  {
   "cell_type": "code",
   "execution_count": 40,
   "id": "85a7afe7",
   "metadata": {},
   "outputs": [
    {
     "name": "stdout",
     "output_type": "stream",
     "text": [
      "2 2\n",
      "WW\n",
      "BB\n",
      "0 0\n"
     ]
    }
   ],
   "source": [
    "N, M = [int(x) for x in input().split()]\n",
    "field = []\n",
    "visited = [[0 for _ in range(N)] for _ in range(M)]\n",
    "for _ in range(M):\n",
    "    field.append(list(input()))\n",
    "    \n",
    "def war(x, y, T, cnt):\n",
    "    if x < 0 or x >= N or y < 0 or y >= M:\n",
    "        return cnt\n",
    "    if field[x][y] == T:\n",
    "        field[x][y] = 0 # 방문처리\n",
    "        war(x-1, y, T, cnt+1)\n",
    "        war(x+1, y, T, cnt+1)\n",
    "        war(x, y-1, T, cnt+1)\n",
    "        war(x, y+1, T, cnt+1)\n",
    "    return cnt\n",
    "                 # 위 탐색            # 아래 탐색                # 왼쪽 탐색            # 오른쪽 탐색\n",
    "\n",
    "W, B = 0, 0\n",
    "for i in range(N):\n",
    "    for j in range(M):\n",
    "        temp_w = war(i, j, \"W\", 0)\n",
    "        W += (temp_w ** 2)\n",
    "        temp_b = war(i, j, 'B', 0)\n",
    "        B += (temp_b ** 2)\n",
    "        \n",
    "print(W, B)"
   ]
  },
  {
   "cell_type": "code",
   "execution_count": null,
   "id": "7e17919a",
   "metadata": {},
   "outputs": [],
   "source": [
    "from collections import deque\n",
    "\n",
    "def bfs2(x, y):\n",
    "    Q = deque()\n",
    "    Q.append((x, y))\n",
    "    while Q:\n",
    "        x, y = Q.popleft()\n",
    "        for i in range(4):\n",
    "            nx = x + dx[i]\n",
    "            ny = y + dy[i]\n",
    "        "
   ]
  },
  {
   "cell_type": "markdown",
   "id": "153945ab",
   "metadata": {},
   "source": [
    "## 11725. 트리의 부모 찾기\n",
    "* https://www.acmicpc.net/problem/11725"
   ]
  },
  {
   "cell_type": "code",
   "execution_count": 4,
   "id": "9c35c11e",
   "metadata": {},
   "outputs": [
    {
     "name": "stdout",
     "output_type": "stream",
     "text": [
      "5\n",
      "1 2\n",
      "2 3\n",
      "3 4\n",
      "4 5\n",
      "1\n",
      "2\n",
      "3\n",
      "4\n"
     ]
    }
   ],
   "source": [
    "# 1 (성공)\n",
    "from collections import deque\n",
    "\n",
    "def bfs(graph, start):\n",
    "    dq = deque([start])\n",
    "    visited = [False] * (N+1)\n",
    "    visited[start] = True\n",
    "    parents = [0] * (N+1)\n",
    "    \n",
    "    while dq:\n",
    "        x = dq.popleft()\n",
    "        for p in graph[x]:\n",
    "            if not visited[p]:\n",
    "                dq.append(p)\n",
    "                visited[p] = True\n",
    "                parents[p] = x\n",
    "            \n",
    "    return parents[2:]\n",
    "\n",
    "N = int(input())\n",
    "G = [[] for i in range(N + 1)]\n",
    "for _ in range(N-1):\n",
    "    t = [int(x) for x in input().split()]\n",
    "    G[t[0]].append(t[1])\n",
    "    G[t[1]].append(t[0])\n",
    "\n",
    "result = bfs(G, 1)\n",
    "for x in result:\n",
    "    print(x)"
   ]
  },
  {
   "cell_type": "markdown",
   "id": "5562350a",
   "metadata": {},
   "source": [
    "## 1012. 유기농 배추\n",
    "* https://www.acmicpc.net/problem/1012"
   ]
  },
  {
   "cell_type": "code",
   "execution_count": 10,
   "id": "83480288",
   "metadata": {
    "scrolled": false
   },
   "outputs": [
    {
     "name": "stdout",
     "output_type": "stream",
     "text": [
      "1\n",
      "3 2 2\n",
      "1 0\n",
      "2 0\n",
      "1\n"
     ]
    }
   ],
   "source": [
    "# 1 (성공)\n",
    "from collections import deque\n",
    "\n",
    "# 좌 우 상 하\n",
    "dx = [-1, 1, 0, 0]\n",
    "dy = [0, 0, -1, 1]\n",
    "\n",
    "def bfs1012(G):\n",
    "    count = 0\n",
    "    visited = [[False for _ in range(M)] for _ in range(N)]\n",
    "    Q = deque()\n",
    "    \n",
    "    for n in range(N):\n",
    "        for m in range(M):\n",
    "            if visited[n][m] == False and G[n][m] == 1:\n",
    "                visited[n][m] = True\n",
    "                Q.append((m, n))    \n",
    "                while Q:\n",
    "                    x, y = Q.popleft()\n",
    "                    for i in range(4):\n",
    "                        nx = x + dx[i]\n",
    "                        ny = y + dy[i]\n",
    "\n",
    "                        if nx < 0 or nx >= M or ny < 0 or ny >= N: # 땅 벗어남\n",
    "                            continue\n",
    "                        if G[ny][nx] == 0:\n",
    "                            continue\n",
    "\n",
    "                        if G[ny][nx] == 1:\n",
    "                            if visited[ny][nx] == False:\n",
    "                                visited[ny][nx] = True\n",
    "                                Q.append((nx, ny))\n",
    "                count += 1\n",
    "                \n",
    "    return count\n",
    "\n",
    "T = int(input())\n",
    "for _ in range(T):\n",
    "    M, N, K = [int(x) for x in input().split()] # 가로, 세로, 배추 개수\n",
    "    G = [[0 for _ in range(M)] for _ in range(N)]\n",
    "    for _ in range(K):\n",
    "        a, b = [int(x) for x in input().split()]\n",
    "        G[b][a] = 1\n",
    "    print(bfs1012(G, M, N))\n"
   ]
  },
  {
   "cell_type": "markdown",
   "id": "3b4c3355",
   "metadata": {},
   "source": [
    "## 11724. 연결 요소의 개수\n",
    "* https://www.acmicpc.net/problem/11724"
   ]
  },
  {
   "cell_type": "code",
   "execution_count": 23,
   "id": "9a880d2b",
   "metadata": {},
   "outputs": [
    {
     "name": "stdout",
     "output_type": "stream",
     "text": [
      "6 5\n",
      "1 2\n",
      "2 5\n",
      "5 1\n",
      "3 4\n",
      "4 6\n",
      "6\n"
     ]
    }
   ],
   "source": [
    "# 1 (실패)\n",
    "from collections import deque\n",
    "\n",
    "def bfs24(graph, N):\n",
    "    dq = deque([])\n",
    "    visited = [False] * (N + 1)\n",
    "    \n",
    "    count = 0\n",
    "    for i in range(1, N+1):\n",
    "        if visited[i] == False:\n",
    "            visited[i] = True\n",
    "            dq.append(i)\n",
    "            count += 1\n",
    "        while dq:\n",
    "            x = dq.popleft()\n",
    "            for p in graph[x]:\n",
    "                if not visited[p]:\n",
    "                    dq.append(p)\n",
    "                    visited[p] = True\n",
    "            \n",
    "    return count\n",
    "    \n",
    "\n",
    "\n",
    "N, M = [int(x) for x in input().split()] # 노드, 엣지\n",
    "G = [[0 for _ in range(N+1)] for _ in range(N+1)]\n",
    "for _ in range(M):\n",
    "    a, b = [int(x) for x in input().split()]\n",
    "    G[a][b] = 1\n",
    "    G[b][a] = 1\n",
    "    \n",
    "print(bfs24(G, N))\n"
   ]
  },
  {
   "cell_type": "code",
   "execution_count": 27,
   "id": "a08f96aa",
   "metadata": {},
   "outputs": [
    {
     "name": "stdout",
     "output_type": "stream",
     "text": [
      "6 8\n",
      "1 2\n",
      "2 5\n",
      "5 1\n",
      "3 4\n",
      "4 6\n",
      "5 4\n",
      "2 4\n",
      "2 3\n",
      "1\n"
     ]
    }
   ],
   "source": [
    "# 2\n",
    "def dfs24(G, v, visited):\n",
    "    if visited[v] == True:\n",
    "        return False\n",
    "    visited[v] = True\n",
    "    \n",
    "    for i in G[v]:\n",
    "        if not visited[i]:\n",
    "            dfs24(G, i, visited)\n",
    "\n",
    "\n",
    "N, M = [int(x) for x in input().split()] # 노드, 엣지\n",
    "G = [[] for _ in range(N+1)]\n",
    "visited = [False] * (N+1)\n",
    "for _ in range(M):\n",
    "    A = [int(x) for x in input().split()]\n",
    "    G[A[0]].append(A[1])\n",
    "    G[A[1]].append(A[0])\n",
    "    \n",
    "count = 0\n",
    "for i in range(1, N+1):\n",
    "    if dfs24(G, i, visited) != False:\n",
    "        count += 1\n",
    "print(count)"
   ]
  },
  {
   "cell_type": "code",
   "execution_count": 2,
   "id": "182749f6",
   "metadata": {},
   "outputs": [
    {
     "name": "stdout",
     "output_type": "stream",
     "text": [
      "0 0\n",
      "0\n"
     ]
    }
   ],
   "source": [
    "# 3 (성공)\n",
    "import sys\n",
    "sys.setrecursionlimit(10**5)\n",
    "\n",
    "#N, M = [int(x) for x in sys.stdin.readline().split()] # 노드, 엣지\n",
    "N, M = [int(x) for x in input().split()]\n",
    "G = [[] for _ in range(N+1)]\n",
    "visited = [False] * (N+1)\n",
    "for _ in range(M):\n",
    "    #A = [int(x) for x in sys.stdin.readline().split()]\n",
    "    A = [int(x) for x in input().split()]\n",
    "    G[A[0]].append(A[1])\n",
    "    G[A[1]].append(A[0])\n",
    "    \n",
    "def dfs24(G, v):\n",
    "    visited[v] = True\n",
    "    \n",
    "    for i in G[v]:\n",
    "        if not visited[i]:\n",
    "            dfs24(G, i)\n",
    "            \n",
    "count = 0\n",
    "for i in range(1, N+1):\n",
    "    if visited[i] == False:\n",
    "        #dfs24(G, i)\n",
    "        count += 1\n",
    "        \n",
    "print(count)"
   ]
  },
  {
   "cell_type": "markdown",
   "id": "771e88b9",
   "metadata": {},
   "source": [
    "## 6118. 숨바꼭질\n",
    "* https://www.acmicpc.net/problem/6118"
   ]
  },
  {
   "cell_type": "code",
   "execution_count": 10,
   "id": "45c4a42e",
   "metadata": {},
   "outputs": [
    {
     "name": "stdout",
     "output_type": "stream",
     "text": [
      "6 7\n",
      "3 6\n",
      "4 3\n",
      "3 2\n",
      "1 3\n",
      "1 2\n",
      "2 4\n",
      "5 2\n",
      "4 2 3\n"
     ]
    }
   ],
   "source": [
    "# 1 (성공)\n",
    "from collections import deque\n",
    "import sys\n",
    "\n",
    "def bfs18(graph, N):\n",
    "    dq = deque([1])\n",
    "    visited = [False] * (N + 1)\n",
    "    visited[1] = True\n",
    "    layer = [1] * (N + 1)\n",
    "    \n",
    "    while dq:\n",
    "        x = dq.popleft()\n",
    "        for p in graph[x]:\n",
    "            if not visited[p]:\n",
    "                layer[p] = layer[x] + 1\n",
    "                dq.append(p)\n",
    "                visited[p] = True\n",
    "            \n",
    "    return layer\n",
    "\n",
    "\n",
    "N, M = [int(x) for x in input().split()] # 노드, 엣지\n",
    "#N, M = [int(x) for x in sys.stdin.readline().split()]\n",
    "G = [[] for _ in range(N+1)]\n",
    "for _ in range(M):\n",
    "    A = [int(x) for x in input().split()]\n",
    "    #A = [int(x) for x in sys.stdin.readline().split()]\n",
    "    G[A[0]].append(A[1])\n",
    "    G[A[1]].append(A[0])\n",
    "\n",
    "for i in range(1, N+1):\n",
    "    G[i].sort()\n",
    "\n",
    "layer = bfs18(G, N)\n",
    "far = max(layer) # 가장 먼 리프노드\n",
    "\n",
    "print(layer.index(far), far - 1, layer.count(far)) # far의 index, 1~far 최단거리, 레이어가 같은 리프노드의 갯수"
   ]
  },
  {
   "cell_type": "markdown",
   "id": "ae2a9eba",
   "metadata": {},
   "source": [
    "## 14496. 그대, 그머가 되어\n",
    "* https://www.acmicpc.net/problem/14496"
   ]
  },
  {
   "cell_type": "code",
   "execution_count": 1,
   "id": "0b667fbf",
   "metadata": {},
   "outputs": [
    {
     "name": "stdout",
     "output_type": "stream",
     "text": [
      "1 1\n",
      "3 2\n",
      "1 1\n",
      "2 3\n",
      "0\n"
     ]
    }
   ],
   "source": [
    "# 1 (성공)\n",
    "from collections import deque\n",
    "import sys\n",
    "\n",
    "def bfs96(graph, start):\n",
    "    dq = deque([start])\n",
    "    N = len(graph) # 0노드 포함\n",
    "    visited = [False] * N\n",
    "    visited[start] = True\n",
    "    layer = [10000] * N\n",
    "    layer[start] = 0\n",
    "    \n",
    "    while dq:\n",
    "        x = dq.popleft()\n",
    "        for p in graph[x]:\n",
    "            if not visited[p]:\n",
    "                layer[p] = layer[x] + 1\n",
    "                dq.append(p)\n",
    "                visited[p] = True\n",
    "            \n",
    "    return layer\n",
    "\n",
    "start, end = [int(x) for x in input().split()]\n",
    "N, M = [int(x) for x in input().split()] # 노드, 엣지\n",
    "#N, M = [int(x) for x in sys.stdin.readline().split()]\n",
    "\n",
    "G = [[] for _ in range(N+1)]\n",
    "for _ in range(M):\n",
    "    a, b = [int(x) for x in input().split()]\n",
    "    #A = [int(x) for x in sys.stdin.readline().split()]\n",
    "    G[a].append(b)\n",
    "    G[b].append(a)\n",
    "\n",
    "for i in range(1, N+1):\n",
    "    G[i].sort()\n",
    "\n",
    "layer = bfs96(G, start)\n",
    "if layer[end] == 10000:\n",
    "    print(-1)\n",
    "else:\n",
    "    print(layer[end])"
   ]
  },
  {
   "cell_type": "code",
   "execution_count": null,
   "id": "eae868ce",
   "metadata": {},
   "outputs": [],
   "source": []
  }
 ],
 "metadata": {
  "kernelspec": {
   "display_name": "Python 3 (ipykernel)",
   "language": "python",
   "name": "python3"
  },
  "language_info": {
   "codemirror_mode": {
    "name": "ipython",
    "version": 3
   },
   "file_extension": ".py",
   "mimetype": "text/x-python",
   "name": "python",
   "nbconvert_exporter": "python",
   "pygments_lexer": "ipython3",
   "version": "3.8.8"
  }
 },
 "nbformat": 4,
 "nbformat_minor": 5
}
