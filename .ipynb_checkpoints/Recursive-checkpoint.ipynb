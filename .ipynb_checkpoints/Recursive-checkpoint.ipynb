{
 "cells": [
  {
   "cell_type": "markdown",
   "id": "2ecc9f8b",
   "metadata": {},
   "source": [
    "## 17478. 재귀함수가 뭔가요?\n",
    "* https://www.acmicpc.net/problem/17478"
   ]
  },
  {
   "cell_type": "code",
   "execution_count": 15,
   "id": "4104eb7d",
   "metadata": {},
   "outputs": [
    {
     "name": "stdout",
     "output_type": "stream",
     "text": [
      "5\n",
      "어느 한 컴퓨터공학과 학생이 유명한 교수님을 찾아가 물었다.\n",
      "\"재귀함수가 뭔가요?\"\n",
      "\"잘 들어보게. 옛날옛날 한 산 꼭대기에 이세상 모든 지식을 통달한 선인이 있었어.\n",
      "마을 사람들은 모두 그 선인에게 수많은 질문을 했고, 모두 지혜롭게 대답해 주었지.\n",
      "그의 답은 대부분 옳았다고 하네. 그런데 어느 날, 그 선인에게 한 선비가 찾아와서 물었어.\"\n",
      "____\"재귀함수가 뭔가요?\"\n",
      "____\"잘 들어보게. 옛날옛날 한 산 꼭대기에 이세상 모든 지식을 통달한 선인이 있었어.\n",
      "____마을 사람들은 모두 그 선인에게 수많은 질문을 했고, 모두 지혜롭게 대답해 주었지.\n",
      "____그의 답은 대부분 옳았다고 하네. 그런데 어느 날, 그 선인에게 한 선비가 찾아와서 물었어.\"\n",
      "________\"재귀함수가 뭔가요?\"\n",
      "________\"잘 들어보게. 옛날옛날 한 산 꼭대기에 이세상 모든 지식을 통달한 선인이 있었어.\n",
      "________마을 사람들은 모두 그 선인에게 수많은 질문을 했고, 모두 지혜롭게 대답해 주었지.\n",
      "________그의 답은 대부분 옳았다고 하네. 그런데 어느 날, 그 선인에게 한 선비가 찾아와서 물었어.\"\n",
      "____________\"재귀함수가 뭔가요?\"\n",
      "____________\"잘 들어보게. 옛날옛날 한 산 꼭대기에 이세상 모든 지식을 통달한 선인이 있었어.\n",
      "____________마을 사람들은 모두 그 선인에게 수많은 질문을 했고, 모두 지혜롭게 대답해 주었지.\n",
      "____________그의 답은 대부분 옳았다고 하네. 그런데 어느 날, 그 선인에게 한 선비가 찾아와서 물었어.\"\n",
      "________________\"재귀함수가 뭔가요?\"\n",
      "________________\"잘 들어보게. 옛날옛날 한 산 꼭대기에 이세상 모든 지식을 통달한 선인이 있었어.\n",
      "________________마을 사람들은 모두 그 선인에게 수많은 질문을 했고, 모두 지혜롭게 대답해 주었지.\n",
      "________________그의 답은 대부분 옳았다고 하네. 그런데 어느 날, 그 선인에게 한 선비가 찾아와서 물었어.\"\n",
      "____________________\"재귀함수가 뭔가요?\"\n",
      "____________________\"재귀함수는 자기 자신을 호출하는 함수라네\"\n",
      "____________________라고 답변하였지.\n",
      "________________라고 답변하였지.\n",
      "____________라고 답변하였지.\n",
      "________라고 답변하였지.\n",
      "____라고 답변하였지.\n",
      "라고 답변하였지.\n"
     ]
    }
   ],
   "source": [
    "# 1 (성공)\n",
    "def recur(N, i):\n",
    "    space = '____'    \n",
    "    print(space * i, end='')\n",
    "    print(\"\\\"재귀함수가 뭔가요?\\\"\")\n",
    "    \n",
    "    if i < N:\n",
    "        print(space * i, end='')\n",
    "        print(\"\\\"잘 들어보게. 옛날옛날 한 산 꼭대기에 이세상 모든 지식을 통달한 선인이 있었어.\")\n",
    "        print(space * i, end='')\n",
    "        print(\"마을 사람들은 모두 그 선인에게 수많은 질문을 했고, 모두 지혜롭게 대답해 주었지.\")\n",
    "        print(space * i, end='')\n",
    "        print(\"그의 답은 대부분 옳았다고 하네. 그런데 어느 날, 그 선인에게 한 선비가 찾아와서 물었어.\\\"\")\n",
    "    else:\n",
    "        print(space * i, end='')\n",
    "        print(\"\\\"재귀함수는 자기 자신을 호출하는 함수라네\\\"\")\n",
    "        print(space * i, end='')\n",
    "        print(\"라고 답변하였지.\")\n",
    "        return\n",
    "        \n",
    "    recur(N, i+1)\n",
    "    print(space * i, end='')\n",
    "    print(\"라고 답변하였지.\")\n",
    "\n",
    "N = int(input())\n",
    "\n",
    "print(\"어느 한 컴퓨터공학과 학생이 유명한 교수님을 찾아가 물었다.\")\n",
    "recur(N, 0)"
   ]
  },
  {
   "cell_type": "markdown",
   "id": "7096e27f",
   "metadata": {},
   "source": [
    "## 10994. 별 찍기 - 19\n",
    "* https://www.acmicpc.net/problem/10994"
   ]
  },
  {
   "cell_type": "code",
   "execution_count": 19,
   "id": "f0851c44",
   "metadata": {},
   "outputs": [
    {
     "name": "stdout",
     "output_type": "stream",
     "text": [
      "2\n",
      "*****\n",
      "\n",
      "*       *\n",
      "\n",
      "*****\n"
     ]
    }
   ],
   "source": [
    "def space():\n",
    "    print(\"\")\n",
    "\n",
    "def full(N):\n",
    "    s = '*' * (N*4-3)\n",
    "    print(s)\n",
    "\n",
    "def edge(N):\n",
    "    s = ' ' * (N*4-1)\n",
    "    s = '*' + s + '*'\n",
    "    print(s)\n",
    "    \n",
    "def center(N):\n",
    "    \n",
    "\n",
    "def star(N):\n",
    "    if N == 1:\n",
    "        print(\"*\")\n",
    "    else:\n",
    "        full(N)\n",
    "        space()\n",
    "        edge(N)\n",
    "        space()\n",
    "        \n",
    "        center(N)\n",
    "        \n",
    "        space()\n",
    "        edge(N)\n",
    "        space()\n",
    "        full(N)\n",
    "\n",
    "N = int(input())\n",
    "star(N)"
   ]
  },
  {
   "cell_type": "code",
   "execution_count": 4,
   "id": "e78ff4c6",
   "metadata": {},
   "outputs": [
    {
     "name": "stdout",
     "output_type": "stream",
     "text": [
      "[1, 2, 3]\n",
      "[1, 10, 3]\n",
      "\t [1, 10, 3]\n"
     ]
    }
   ],
   "source": [
    "\n",
    "\n",
    "def p():\n",
    "    print(A)\n",
    "    A[1] = 10\n",
    "    print(A)\n",
    "    \n",
    "A = [1, 2, 3] \n",
    "p()\n",
    "print(\"\\t\", A)"
   ]
  },
  {
   "cell_type": "code",
   "execution_count": null,
   "id": "ec6701fa",
   "metadata": {},
   "outputs": [],
   "source": [
    "def f(N):\n",
    "    print(N, )"
   ]
  },
  {
   "cell_type": "markdown",
   "id": "33f02e3d",
   "metadata": {},
   "source": [
    "## 1780. 종이의 개수\n",
    "* https://www.acmicpc.net/problem/1780"
   ]
  },
  {
   "cell_type": "code",
   "execution_count": 3,
   "id": "8b3014f9",
   "metadata": {},
   "outputs": [
    {
     "name": "stdout",
     "output_type": "stream",
     "text": [
      "1\n",
      "[]\n"
     ]
    }
   ],
   "source": [
    "def check9(A):\n",
    "    count_1, count0, count1 = 0, 0, 0\n",
    "    for i in range(3):\n",
    "        for j in range(3):\n",
    "            if A[i][j] == -1:\n",
    "                count_1 +=1\n",
    "            if A[i][j] == 0:\n",
    "                count0 +=1\n",
    "            if A[i][j] == 1:\n",
    "                count1 += 1\n",
    "                \n",
    "    if count_1 == 9:\n",
    "        return [1, 0, 0], -1\n",
    "    elif count0 == 9:\n",
    "        return [0, 1, 0], 0\n",
    "    elif count1 == 9:\n",
    "        return [0, 0, 1], 1\n",
    "    else:\n",
    "        return [count_1, count0, count1], 101\n",
    "\n",
    "N = int(input())\n",
    "\n",
    "Paper = []\n",
    "for _ in range(N):\n",
    "    Paper.append([int(x) for x in input().split()])\n",
    "    \n",
    "check = [[3 for _ in range(N//3)] for _ in range(N//3)]\n",
    "for i in range(N//3):\n",
    "    for j in range(N//3):\n",
    "        count_101, flag = check9(Paper[i*3:(i+1)*3][j*3:(j+1)*3])\n",
    "    \n",
    "        if flag < 2:\n",
    "            check[i][j] = flag\n",
    "\n",
    "print(check)"
   ]
  },
  {
   "cell_type": "code",
   "execution_count": 37,
   "id": "fb9a9d4e",
   "metadata": {},
   "outputs": [
    {
     "data": {
      "text/plain": [
       "[[3, 3, 3], [3, 3, 3], [3, 3, 3]]"
      ]
     },
     "execution_count": 37,
     "metadata": {},
     "output_type": "execute_result"
    }
   ],
   "source": [
    "N = 9\n",
    "check = [[3 for _ in range(N//3)] for _ in range(N//3)]\n",
    "check"
   ]
  },
  {
   "cell_type": "markdown",
   "id": "51ca317d",
   "metadata": {},
   "source": [
    "## 25501. 재귀의 귀재\n",
    "* https://www.acmicpc.net/problem/25501"
   ]
  },
  {
   "cell_type": "code",
   "execution_count": 29,
   "id": "2d8ff544",
   "metadata": {},
   "outputs": [
    {
     "name": "stdout",
     "output_type": "stream",
     "text": [
      "5\n",
      "AAA\n",
      "1 2\n",
      "ABBA\n",
      "1 3\n",
      "ABABA\n",
      "1 3\n",
      "ABCA\n",
      "0 2\n",
      "PAL\n",
      "0 1\n"
     ]
    }
   ],
   "source": [
    "# 1 (성공)\n",
    "\n",
    "def recursion(s, l, r, C):\n",
    "    if l >= r:\n",
    "        return 1, C\n",
    "    elif s[l] != s[r]:\n",
    "        return 0, C\n",
    "    else:\n",
    "        return recursion(s, l+1, r-1, C+1)\n",
    "\n",
    "def isPalindrome(s, C):\n",
    "    return recursion(s, 0, len(s)-1, C+1)\n",
    "\n",
    "T = int(input())\n",
    "for _ in range(T):\n",
    "    S = input()\n",
    "    isP, count = isPalindrome(S, 0)\n",
    "    print(isP, count)"
   ]
  },
  {
   "cell_type": "markdown",
   "id": "f3dd5128",
   "metadata": {},
   "source": [
    "## 10870. 피보나치 수 5\n",
    "* https://www.acmicpc.net/problem/10870"
   ]
  },
  {
   "cell_type": "code",
   "execution_count": 1,
   "id": "ec0150e1",
   "metadata": {},
   "outputs": [
    {
     "name": "stdout",
     "output_type": "stream",
     "text": [
      "10\n",
      "55\n"
     ]
    }
   ],
   "source": [
    "# 1 (성공)\n",
    "\n",
    "def Fibo(N):\n",
    "    if N == 0:\n",
    "        return 0\n",
    "    elif N <= 2:\n",
    "        return 1\n",
    "    else:\n",
    "        return Fibo(N-1) + Fibo(N-2)\n",
    "\n",
    "\n",
    "N = int(input())\n",
    "print(Fibo(N))"
   ]
  },
  {
   "cell_type": "markdown",
   "id": "11da9d16",
   "metadata": {},
   "source": [
    "## 10872. 팩토리얼\n",
    "* https://www.acmicpc.net/problem/10872"
   ]
  },
  {
   "cell_type": "code",
   "execution_count": 2,
   "id": "dfc5f27d",
   "metadata": {},
   "outputs": [
    {
     "name": "stdout",
     "output_type": "stream",
     "text": [
      "10\n",
      "3628800\n"
     ]
    }
   ],
   "source": [
    "# 1 (성공)\n",
    "\n",
    "def Facto(N):\n",
    "    if N == 0:\n",
    "        return 1\n",
    "    else:\n",
    "        return N * Facto(N-1)\n",
    "\n",
    "N = int(input())\n",
    "print(Facto(N))"
   ]
  },
  {
   "cell_type": "markdown",
   "id": "46a37182",
   "metadata": {},
   "source": [
    "## 15649. N과 M (1)\n",
    "* https://www.acmicpc.net/problem/15649"
   ]
  },
  {
   "cell_type": "code",
   "execution_count": 7,
   "id": "6f507a2f",
   "metadata": {},
   "outputs": [
    {
     "name": "stdout",
     "output_type": "stream",
     "text": [
      "4 2\n",
      "1 2 \n",
      "1 3 \n",
      "1 4 \n",
      "2 1 \n",
      "2 3 \n",
      "2 4 \n",
      "3 1 \n",
      "3 2 \n",
      "3 4 \n",
      "4 1 \n",
      "4 2 \n",
      "4 3 \n"
     ]
    }
   ],
   "source": [
    "N, M = [int(x) for x in input().split()]\n",
    "visited = [False] * (N+1)\n",
    "S = []\n",
    "\n",
    "def per1():\n",
    "    if len(S) == M:\n",
    "        for x in S:\n",
    "            print(x, end=' ')\n",
    "        print()\n",
    "        \n",
    "    for i in range(1, N+1):\n",
    "        if visited[i] == False:\n",
    "            S.append(i)\n",
    "            visited[i] = True\n",
    "            per1()\n",
    "            S.pop()\n",
    "            visited[i] = False\n",
    "\n",
    "per1()"
   ]
  },
  {
   "cell_type": "code",
   "execution_count": 50,
   "id": "b4489d41",
   "metadata": {},
   "outputs": [
    {
     "name": "stdout",
     "output_type": "stream",
     "text": [
      "4 2\n",
      "[1, 2]\n",
      "1 2\n",
      "1 3\n",
      "1 4\n",
      "2 1\n",
      "2 3\n",
      "2 4\n",
      "3 1\n",
      "3 2\n",
      "3 4\n",
      "4 1\n",
      "4 2\n",
      "4 3\n"
     ]
    }
   ],
   "source": [
    "import itertools\n",
    "\n",
    "N, M = [int(x) for x in input().split()]\n",
    "\n",
    "nPr = list(itertools.permutations(range(1, N+1), M))\n",
    "\n",
    "for X in nPr:\n",
    "    print(x, end=' ')"
   ]
  },
  {
   "cell_type": "markdown",
   "id": "93eab417",
   "metadata": {},
   "source": [
    "## 15650. N과 M (2)\n",
    "* https://www.acmicpc.net/problem/15650"
   ]
  },
  {
   "cell_type": "code",
   "execution_count": 18,
   "id": "9e56db4e",
   "metadata": {},
   "outputs": [
    {
     "name": "stdout",
     "output_type": "stream",
     "text": [
      "4 2\n",
      "1 2 \n",
      "1 3 \n",
      "1 4 \n",
      "2 3 \n",
      "2 4 \n",
      "3 4 \n"
     ]
    }
   ],
   "source": [
    "N, M = [int(x) for x in input().split()]\n",
    "visited = [False] * (N+1)\n",
    "S = []\n",
    "\n",
    "def per2(c):\n",
    "    if len(S) == M:\n",
    "        for x in S:\n",
    "            print(x, end=' ')\n",
    "        print()\n",
    "        \n",
    "    #print(\"c\", c, \" S:\", S)\n",
    "    for i in range(1, N+1):\n",
    "        if visited[i] == False:\n",
    "            if len(S) == 0 or S[-1] < i:\n",
    "                S.append(i)\n",
    "                visited[i] = True\n",
    "                per2(c+1)\n",
    "                S.pop()\n",
    "                visited[i] = False\n",
    "\n",
    "per2(0)"
   ]
  },
  {
   "cell_type": "markdown",
   "id": "2791f0f9",
   "metadata": {},
   "source": [
    "## 15651. N과 M (3)\n",
    "* https://www.acmicpc.net/problem/15651"
   ]
  },
  {
   "cell_type": "code",
   "execution_count": 2,
   "id": "9fc9124c",
   "metadata": {},
   "outputs": [
    {
     "name": "stdout",
     "output_type": "stream",
     "text": [
      "4 2\n",
      "1 1 \n",
      "1 2 \n",
      "1 3 \n",
      "1 4 \n",
      "2 1 \n",
      "2 2 \n",
      "2 3 \n",
      "2 4 \n",
      "3 1 \n",
      "3 2 \n",
      "3 3 \n",
      "3 4 \n",
      "4 1 \n",
      "4 2 \n",
      "4 3 \n",
      "4 4 \n"
     ]
    }
   ],
   "source": [
    "# 1 (성공)\n",
    "N, M = [int(x) for x in input().split()]\n",
    "visited = [False] * (N+1)\n",
    "S = []\n",
    "\n",
    "def per3():\n",
    "    if len(S) == M:\n",
    "        for x in S:\n",
    "            print(x, end=' ')\n",
    "        print()\n",
    "        return\n",
    "        \n",
    "    for i in range(1, N+1):\n",
    "        S.append(i)\n",
    "        per3()\n",
    "        S.pop()\n",
    "\n",
    "per3()"
   ]
  },
  {
   "cell_type": "markdown",
   "id": "aacd101f",
   "metadata": {},
   "source": [
    "## 15652. N과 M (4)\n",
    "* https://www.acmicpc.net/problem/15652"
   ]
  },
  {
   "cell_type": "code",
   "execution_count": 6,
   "id": "d077e71e",
   "metadata": {},
   "outputs": [
    {
     "name": "stdout",
     "output_type": "stream",
     "text": [
      "3 3\n",
      "1 1 1 \n",
      "1 1 2 \n",
      "1 1 3 \n",
      "1 2 2 \n",
      "1 2 3 \n",
      "1 3 3 \n",
      "2 2 2 \n",
      "2 2 3 \n",
      "2 3 3 \n",
      "3 3 3 \n"
     ]
    }
   ],
   "source": [
    "# 1 (성공)\n",
    "N, M = [int(x) for x in input().split()]\n",
    "visited = [False] * (N+1)\n",
    "S = []\n",
    "\n",
    "def per4():\n",
    "    if len(S) == M:\n",
    "        for x in S:\n",
    "            print(x, end=' ')\n",
    "        print()\n",
    "        return\n",
    "        \n",
    "    for i in range(1, N+1):\n",
    "        if len(S) == 0 or S[-1] <= i:\n",
    "            S.append(i)\n",
    "            per4()\n",
    "            S.pop()\n",
    "\n",
    "per4()"
   ]
  },
  {
   "cell_type": "code",
   "execution_count": null,
   "id": "17ec2045",
   "metadata": {},
   "outputs": [],
   "source": []
  }
 ],
 "metadata": {
  "kernelspec": {
   "display_name": "Python 3 (ipykernel)",
   "language": "python",
   "name": "python3"
  },
  "language_info": {
   "codemirror_mode": {
    "name": "ipython",
    "version": 3
   },
   "file_extension": ".py",
   "mimetype": "text/x-python",
   "name": "python",
   "nbconvert_exporter": "python",
   "pygments_lexer": "ipython3",
   "version": "3.8.8"
  }
 },
 "nbformat": 4,
 "nbformat_minor": 5
}
